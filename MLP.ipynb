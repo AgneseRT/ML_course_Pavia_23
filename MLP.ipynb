{
  "cells": [
    {
      "cell_type": "markdown",
      "metadata": {
        "id": "view-in-github",
        "colab_type": "text"
      },
      "source": [
        "<a href=\"https://colab.research.google.com/github/AgneseRT/ML_course_Pavia_23/blob/main/MLP.ipynb\" target=\"_parent\"><img src=\"https://colab.research.google.com/assets/colab-badge.svg\" alt=\"Open In Colab\"/></a>"
      ]
    },
    {
      "cell_type": "markdown",
      "source": [
        "# Tumoral Histology Lung Cancer Identification\n",
        "  \n",
        "<b> Lung cancer is nowadays the major tumour-related mortality cause, with non-small cell lung cancer (NSCLC) corresponding to 85% of the incidences. Adenocarcinoma (Adk) and Squamous cell carcinoma (Scc) are two of the most common types of NSCLC, manage to distinguish between those is crucial to determine appropriate treatment decisions. The tumour presence is primarily diagnosed through imaging, then the information on the histological subtype is obtained through biopsy. Recently, Radiomics has allowed to extract quantitative information, labelled as Radiomics features, from medical images.  The idea behind is that histological and pathological information are hidden inside the images'pixel distribution so, in principle, is possible to correlate those features to tissue properties. Building a radiomics classifier that distinguishes between Adk and Scc could improve both patient life quality and clinical outcome. </b>\n",
        "\n",
        "## Introduction\n",
        "\n",
        "In this work, 3 different Dataset are considered, all provided by the I.R.C.C.S. San Matteo of Pavia. The imaging technique considered is the Computed Tomography (CT), which produces detailed cross-sectional body images through X-Rays. For each image considered, the Region of interest (ROI), corresponding to the tumoral lesion, has been segmented by clinicians. The ROI corresponds to the image part through which radiomics features are extracted.\n",
        "For each dataset, just patients with complete information are considered (CT acquisition, ROI, and target).\n",
        "The first dataset contains 135 patients, the second one 56, and the third one 30. The datasets are private, as an example an image is shown.\n",
        "\n",
        "![picture](https://drive.google.com/uc?export=view&id=1rOZGJmM5bG0mgGf9POB9e8CfXEpdcACT)   \n",
        "\n",
        "Pyradiomics has been used for features extraction (https://pyradiomics.readthedocs.io/en/latest/). All radiomics features are sensitive to images parameters, in particular to grayscale and to the voxel dimension. For this reason, is important to normalize images before extracting features. CT images grayscale spans from black to white and is defined by the Hounsfield Unit (HU), which range is [-1000, +3000]. This range is the same for each CT image, so it is not necessary to normalize the gray levels between the images. The scenario changes concerning voxel sizes, which fluctuates between images. For this reason, every image has been resampled to an isotropic voxel with a linear dimension of 0.8 mm.\n",
        "\n",
        "Considering that the whole dataset was composed by 221 patients, I applied a well-known data augmentation method, rotating the images of the three dataset.\n",
        "To do so is necessary to:\n",
        "- import nibabel as nib (Python package dedicated to nifti images)\n",
        "- read images: image = nib.read(path to the image)\n",
        "- extract data from images to obtain image as a np array: image_data = image.get_fdata()\n",
        "- define the rotation matrix (in this case I have used (1, 0, 2))\n",
        "- transpose the image_data: reoriented_data = np.transpose(image_data, (1, 0, 2))\n",
        "- define the new image considering the transposed data and the affine matrix of the original data: reoriented_img = nib.Nifti1Image(reoriented_data, image.affine)\n",
        "\n",
        "It is required to apply the aforementioned process both to images and ROIs, and randomly check that the transposed image is actually mirroring the original one.\n",
        "Once the transposed datasets are available, the features can be extracted from these to enlarge the dataset.\n"
      ],
      "metadata": {
        "id": "UntmD72m36Ab"
      }
    },
    {
      "cell_type": "code",
      "execution_count": null,
      "metadata": {
        "id": "4OMAZgtyXIwY"
      },
      "outputs": [],
      "source": [
        "import os\n",
        "import glob\n",
        "import numpy as np\n",
        "import matplotlib.pyplot as plt\n",
        "import pandas as pd\n",
        "import seaborn as sns\n",
        "from sklearn.feature_selection import RFE\n",
        "from sklearn.ensemble import RandomForestClassifier\n",
        "from sklearn.model_selection import KFold\n",
        "from sklearn.metrics import balanced_accuracy_score, classification_report, confusion_matrix, roc_curve, roc_auc_score\n",
        "import warnings\n",
        "import xgboost as xgb\n",
        "\n",
        "%matplotlib inline"
      ]
    },
    {
      "cell_type": "code",
      "execution_count": null,
      "metadata": {
        "id": "jWjxFaRPXIwb",
        "colab": {
          "base_uri": "https://localhost:8080/"
        },
        "outputId": "9ad25562-fbc0-4f0c-e3bf-1f043d0952ff"
      },
      "outputs": [
        {
          "output_type": "stream",
          "name": "stdout",
          "text": [
            "--2023-08-08 19:49:52--  https://docs.google.com/spreadsheets/d/1Ntq-naifbGKA1FKT2xyDJSKD2TZkrxUQ/edit?usp=drive_link\n",
            "Resolving docs.google.com (docs.google.com)... 173.194.69.139, 173.194.69.100, 173.194.69.102, ...\n",
            "Connecting to docs.google.com (docs.google.com)|173.194.69.139|:443... connected.\n",
            "HTTP request sent, awaiting response... 200 OK\n",
            "Length: unspecified [text/html]\n",
            "Saving to: ‘dataset_scc.xlsx’\n",
            "\n",
            "dataset_scc.xlsx        [  <=>               ]   1.08M  4.32MB/s    in 0.3s    \n",
            "\n",
            "2023-08-08 19:49:53 (4.32 MB/s) - ‘dataset_scc.xlsx’ saved [1136619]\n",
            "\n"
          ]
        }
      ],
      "source": [
        "# Data path definition\n",
        "!wget -O dataset_scc.xlsx  https://docs.google.com/spreadsheets/d/1Ntq-naifbGKA1FKT2xyDJSKD2TZkrxUQ/edit?usp=drive_link&ouid=117926522194505989049&rtpof=true&sd=true\n",
        "#pd.read_excel('https://docs.google.com/spreadsheets/d/1Ntq-naifbGKA1FKT2xyDJSKD2TZkrxUQ/edit?usp=drive_link&ouid=117926522194505989049&rtpof=true&sd=true')._get_numeric_data()\n",
        "#dir = '/content/drive/MyDrive/Progetto_ML/'\n",
        "#df = pd.read_excel(os.path.join(dir, 'dataset_scc.xlsx'))._get_numeric_data()\n"
      ]
    },
    {
      "cell_type": "code",
      "source": [
        "from google.colab import drive\n",
        "drive.mount('/content/drive')"
      ],
      "metadata": {
        "colab": {
          "base_uri": "https://localhost:8080/"
        },
        "id": "2t8xMLLIiIVr",
        "outputId": "5001befe-3d58-42ec-ceeb-e13ca7a8f62a"
      },
      "execution_count": null,
      "outputs": [
        {
          "output_type": "stream",
          "name": "stdout",
          "text": [
            "Drive already mounted at /content/drive; to attempt to forcibly remount, call drive.mount(\"/content/drive\", force_remount=True).\n"
          ]
        }
      ]
    },
    {
      "cell_type": "markdown",
      "source": [
        "# Exploratory data analysis: Features reduction and selection\n",
        "\n",
        "The dataset consists of 104 features and 439 observations. The target is located in the last column, which values, 0 and 1, corresponds to Adk and Scc, respectively.\n",
        "\n",
        "As first step the dataset is explored to comprehend features distributions, assess the presence of missing values (NaN), identify uncorrelated features, and select the relevant features through which build the model.\n",
        "Features selection is performed using Recursive Feature Elimination (RFE)\n",
        "(https://scikit-learn.org/stable/modules/generated/sklearn.feature_selection.RFE.html).\n"
      ],
      "metadata": {
        "id": "leLRQOB0eZvm"
      }
    },
    {
      "cell_type": "code",
      "source": [
        "dir = '/content/drive/MyDrive/Progetto_ML/'\n",
        "df = pd.read_excel(os.path.join(dir, 'dataset_scc.xlsx'))._get_numeric_data()\n",
        "df.columns = df.columns.str.replace(\"original_\", \"\")\n",
        "df.head()"
      ],
      "metadata": {
        "id": "3NQgj9mZtrmw",
        "colab": {
          "base_uri": "https://localhost:8080/",
          "height": 300
        },
        "outputId": "11cc482d-2441-4dbf-a1c2-3270c4e2320b"
      },
      "execution_count": null,
      "outputs": [
        {
          "output_type": "execute_result",
          "data": {
            "text/plain": [
              "   shape_Flatness  shape_LeastAxisLength  shape_MajorAxisLength  \\\n",
              "0        0.325243              39.963058             122.871297   \n",
              "1        0.695097              33.392982              48.040757   \n",
              "2        0.559855              24.231159              43.281106   \n",
              "3        0.709019              20.636586              29.105846   \n",
              "4        0.603733              36.821016              60.988896   \n",
              "\n",
              "   shape_Maximum2DDiameterColumn  shape_Maximum2DDiameterRow  \\\n",
              "0                     114.290857                  153.602083   \n",
              "1                      56.005714                   63.769585   \n",
              "2                      47.389450                   54.599634   \n",
              "3                      32.955728                   29.986664   \n",
              "4                      73.934025                   75.153177   \n",
              "\n",
              "   shape_Maximum2DDiameterSlice  shape_Maximum3DDiameter  shape_MeshVolume  \\\n",
              "0                     92.706850               162.094294     178054.421333   \n",
              "1                     56.091354                66.894544      49043.178667   \n",
              "2                     47.490631                60.303234      17032.746667   \n",
              "3                     33.647585                33.685605       9857.450667   \n",
              "4                     54.687476                76.453384      54667.989333   \n",
              "\n",
              "   shape_MinorAxisLength  shape_Sphericity  ...  gldm_LowGrayLevelEmphasis  \\\n",
              "0              70.430890          0.453341  ...                   0.000382   \n",
              "1              43.508916          0.650508  ...                   0.000455   \n",
              "2              28.400506          0.439813  ...                   0.000505   \n",
              "3              23.771193          0.715988  ...                   0.000479   \n",
              "4              39.406580          0.519267  ...                   0.001612   \n",
              "\n",
              "   gldm_SmallDependenceEmphasis  gldm_SmallDependenceHighGrayLevelEmphasis  \\\n",
              "0                      0.075886                                 183.282515   \n",
              "1                      0.082967                                 165.839093   \n",
              "2                      0.232733                                 460.948926   \n",
              "3                      0.165210                                 349.357125   \n",
              "4                      0.052127                                  28.343118   \n",
              "\n",
              "   gldm_SmallDependenceLowGrayLevelEmphasis  ngtdm_Busyness  ngtdm_Coarseness  \\\n",
              "0                                  0.000040        5.936933          0.000030   \n",
              "1                                  0.000062        1.886548          0.000108   \n",
              "2                                  0.000189        0.539313          0.000410   \n",
              "3                                  0.000169        0.348631          0.000561   \n",
              "4                                  0.000136        3.915091          0.000085   \n",
              "\n",
              "   ngtdm_Complexity  ngtdm_Contrast  ngtdm_Strength  Scc  \n",
              "0       2379.400945        0.004729        0.244308    1  \n",
              "1       1956.774718        0.006301        0.593506    0  \n",
              "2       4082.160313        0.050528        1.204338    0  \n",
              "3       3185.620186        0.029559        2.413428    0  \n",
              "4       1124.010802        0.001122        0.855502    1  \n",
              "\n",
              "[5 rows x 105 columns]"
            ],
            "text/html": [
              "\n",
              "\n",
              "  <div id=\"df-ab49c97f-b4bd-4868-9f6e-87e7e942ed49\">\n",
              "    <div class=\"colab-df-container\">\n",
              "      <div>\n",
              "<style scoped>\n",
              "    .dataframe tbody tr th:only-of-type {\n",
              "        vertical-align: middle;\n",
              "    }\n",
              "\n",
              "    .dataframe tbody tr th {\n",
              "        vertical-align: top;\n",
              "    }\n",
              "\n",
              "    .dataframe thead th {\n",
              "        text-align: right;\n",
              "    }\n",
              "</style>\n",
              "<table border=\"1\" class=\"dataframe\">\n",
              "  <thead>\n",
              "    <tr style=\"text-align: right;\">\n",
              "      <th></th>\n",
              "      <th>shape_Flatness</th>\n",
              "      <th>shape_LeastAxisLength</th>\n",
              "      <th>shape_MajorAxisLength</th>\n",
              "      <th>shape_Maximum2DDiameterColumn</th>\n",
              "      <th>shape_Maximum2DDiameterRow</th>\n",
              "      <th>shape_Maximum2DDiameterSlice</th>\n",
              "      <th>shape_Maximum3DDiameter</th>\n",
              "      <th>shape_MeshVolume</th>\n",
              "      <th>shape_MinorAxisLength</th>\n",
              "      <th>shape_Sphericity</th>\n",
              "      <th>...</th>\n",
              "      <th>gldm_LowGrayLevelEmphasis</th>\n",
              "      <th>gldm_SmallDependenceEmphasis</th>\n",
              "      <th>gldm_SmallDependenceHighGrayLevelEmphasis</th>\n",
              "      <th>gldm_SmallDependenceLowGrayLevelEmphasis</th>\n",
              "      <th>ngtdm_Busyness</th>\n",
              "      <th>ngtdm_Coarseness</th>\n",
              "      <th>ngtdm_Complexity</th>\n",
              "      <th>ngtdm_Contrast</th>\n",
              "      <th>ngtdm_Strength</th>\n",
              "      <th>Scc</th>\n",
              "    </tr>\n",
              "  </thead>\n",
              "  <tbody>\n",
              "    <tr>\n",
              "      <th>0</th>\n",
              "      <td>0.325243</td>\n",
              "      <td>39.963058</td>\n",
              "      <td>122.871297</td>\n",
              "      <td>114.290857</td>\n",
              "      <td>153.602083</td>\n",
              "      <td>92.706850</td>\n",
              "      <td>162.094294</td>\n",
              "      <td>178054.421333</td>\n",
              "      <td>70.430890</td>\n",
              "      <td>0.453341</td>\n",
              "      <td>...</td>\n",
              "      <td>0.000382</td>\n",
              "      <td>0.075886</td>\n",
              "      <td>183.282515</td>\n",
              "      <td>0.000040</td>\n",
              "      <td>5.936933</td>\n",
              "      <td>0.000030</td>\n",
              "      <td>2379.400945</td>\n",
              "      <td>0.004729</td>\n",
              "      <td>0.244308</td>\n",
              "      <td>1</td>\n",
              "    </tr>\n",
              "    <tr>\n",
              "      <th>1</th>\n",
              "      <td>0.695097</td>\n",
              "      <td>33.392982</td>\n",
              "      <td>48.040757</td>\n",
              "      <td>56.005714</td>\n",
              "      <td>63.769585</td>\n",
              "      <td>56.091354</td>\n",
              "      <td>66.894544</td>\n",
              "      <td>49043.178667</td>\n",
              "      <td>43.508916</td>\n",
              "      <td>0.650508</td>\n",
              "      <td>...</td>\n",
              "      <td>0.000455</td>\n",
              "      <td>0.082967</td>\n",
              "      <td>165.839093</td>\n",
              "      <td>0.000062</td>\n",
              "      <td>1.886548</td>\n",
              "      <td>0.000108</td>\n",
              "      <td>1956.774718</td>\n",
              "      <td>0.006301</td>\n",
              "      <td>0.593506</td>\n",
              "      <td>0</td>\n",
              "    </tr>\n",
              "    <tr>\n",
              "      <th>2</th>\n",
              "      <td>0.559855</td>\n",
              "      <td>24.231159</td>\n",
              "      <td>43.281106</td>\n",
              "      <td>47.389450</td>\n",
              "      <td>54.599634</td>\n",
              "      <td>47.490631</td>\n",
              "      <td>60.303234</td>\n",
              "      <td>17032.746667</td>\n",
              "      <td>28.400506</td>\n",
              "      <td>0.439813</td>\n",
              "      <td>...</td>\n",
              "      <td>0.000505</td>\n",
              "      <td>0.232733</td>\n",
              "      <td>460.948926</td>\n",
              "      <td>0.000189</td>\n",
              "      <td>0.539313</td>\n",
              "      <td>0.000410</td>\n",
              "      <td>4082.160313</td>\n",
              "      <td>0.050528</td>\n",
              "      <td>1.204338</td>\n",
              "      <td>0</td>\n",
              "    </tr>\n",
              "    <tr>\n",
              "      <th>3</th>\n",
              "      <td>0.709019</td>\n",
              "      <td>20.636586</td>\n",
              "      <td>29.105846</td>\n",
              "      <td>32.955728</td>\n",
              "      <td>29.986664</td>\n",
              "      <td>33.647585</td>\n",
              "      <td>33.685605</td>\n",
              "      <td>9857.450667</td>\n",
              "      <td>23.771193</td>\n",
              "      <td>0.715988</td>\n",
              "      <td>...</td>\n",
              "      <td>0.000479</td>\n",
              "      <td>0.165210</td>\n",
              "      <td>349.357125</td>\n",
              "      <td>0.000169</td>\n",
              "      <td>0.348631</td>\n",
              "      <td>0.000561</td>\n",
              "      <td>3185.620186</td>\n",
              "      <td>0.029559</td>\n",
              "      <td>2.413428</td>\n",
              "      <td>0</td>\n",
              "    </tr>\n",
              "    <tr>\n",
              "      <th>4</th>\n",
              "      <td>0.603733</td>\n",
              "      <td>36.821016</td>\n",
              "      <td>60.988896</td>\n",
              "      <td>73.934025</td>\n",
              "      <td>75.153177</td>\n",
              "      <td>54.687476</td>\n",
              "      <td>76.453384</td>\n",
              "      <td>54667.989333</td>\n",
              "      <td>39.406580</td>\n",
              "      <td>0.519267</td>\n",
              "      <td>...</td>\n",
              "      <td>0.001612</td>\n",
              "      <td>0.052127</td>\n",
              "      <td>28.343118</td>\n",
              "      <td>0.000136</td>\n",
              "      <td>3.915091</td>\n",
              "      <td>0.000085</td>\n",
              "      <td>1124.010802</td>\n",
              "      <td>0.001122</td>\n",
              "      <td>0.855502</td>\n",
              "      <td>1</td>\n",
              "    </tr>\n",
              "  </tbody>\n",
              "</table>\n",
              "<p>5 rows × 105 columns</p>\n",
              "</div>\n",
              "      <button class=\"colab-df-convert\" onclick=\"convertToInteractive('df-ab49c97f-b4bd-4868-9f6e-87e7e942ed49')\"\n",
              "              title=\"Convert this dataframe to an interactive table.\"\n",
              "              style=\"display:none;\">\n",
              "\n",
              "  <svg xmlns=\"http://www.w3.org/2000/svg\" height=\"24px\"viewBox=\"0 0 24 24\"\n",
              "       width=\"24px\">\n",
              "    <path d=\"M0 0h24v24H0V0z\" fill=\"none\"/>\n",
              "    <path d=\"M18.56 5.44l.94 2.06.94-2.06 2.06-.94-2.06-.94-.94-2.06-.94 2.06-2.06.94zm-11 1L8.5 8.5l.94-2.06 2.06-.94-2.06-.94L8.5 2.5l-.94 2.06-2.06.94zm10 10l.94 2.06.94-2.06 2.06-.94-2.06-.94-.94-2.06-.94 2.06-2.06.94z\"/><path d=\"M17.41 7.96l-1.37-1.37c-.4-.4-.92-.59-1.43-.59-.52 0-1.04.2-1.43.59L10.3 9.45l-7.72 7.72c-.78.78-.78 2.05 0 2.83L4 21.41c.39.39.9.59 1.41.59.51 0 1.02-.2 1.41-.59l7.78-7.78 2.81-2.81c.8-.78.8-2.07 0-2.86zM5.41 20L4 18.59l7.72-7.72 1.47 1.35L5.41 20z\"/>\n",
              "  </svg>\n",
              "      </button>\n",
              "\n",
              "\n",
              "\n",
              "    <div id=\"df-eb124428-a676-4f5c-be36-8a933bcf6b92\">\n",
              "      <button class=\"colab-df-quickchart\" onclick=\"quickchart('df-eb124428-a676-4f5c-be36-8a933bcf6b92')\"\n",
              "              title=\"Suggest charts.\"\n",
              "              style=\"display:none;\">\n",
              "\n",
              "<svg xmlns=\"http://www.w3.org/2000/svg\" height=\"24px\"viewBox=\"0 0 24 24\"\n",
              "     width=\"24px\">\n",
              "    <g>\n",
              "        <path d=\"M19 3H5c-1.1 0-2 .9-2 2v14c0 1.1.9 2 2 2h14c1.1 0 2-.9 2-2V5c0-1.1-.9-2-2-2zM9 17H7v-7h2v7zm4 0h-2V7h2v10zm4 0h-2v-4h2v4z\"/>\n",
              "    </g>\n",
              "</svg>\n",
              "      </button>\n",
              "    </div>\n",
              "\n",
              "<style>\n",
              "  .colab-df-quickchart {\n",
              "    background-color: #E8F0FE;\n",
              "    border: none;\n",
              "    border-radius: 50%;\n",
              "    cursor: pointer;\n",
              "    display: none;\n",
              "    fill: #1967D2;\n",
              "    height: 32px;\n",
              "    padding: 0 0 0 0;\n",
              "    width: 32px;\n",
              "  }\n",
              "\n",
              "  .colab-df-quickchart:hover {\n",
              "    background-color: #E2EBFA;\n",
              "    box-shadow: 0px 1px 2px rgba(60, 64, 67, 0.3), 0px 1px 3px 1px rgba(60, 64, 67, 0.15);\n",
              "    fill: #174EA6;\n",
              "  }\n",
              "\n",
              "  [theme=dark] .colab-df-quickchart {\n",
              "    background-color: #3B4455;\n",
              "    fill: #D2E3FC;\n",
              "  }\n",
              "\n",
              "  [theme=dark] .colab-df-quickchart:hover {\n",
              "    background-color: #434B5C;\n",
              "    box-shadow: 0px 1px 3px 1px rgba(0, 0, 0, 0.15);\n",
              "    filter: drop-shadow(0px 1px 2px rgba(0, 0, 0, 0.3));\n",
              "    fill: #FFFFFF;\n",
              "  }\n",
              "</style>\n",
              "\n",
              "    <script>\n",
              "      async function quickchart(key) {\n",
              "        const containerElement = document.querySelector('#' + key);\n",
              "        const charts = await google.colab.kernel.invokeFunction(\n",
              "            'suggestCharts', [key], {});\n",
              "      }\n",
              "    </script>\n",
              "\n",
              "      <script>\n",
              "\n",
              "function displayQuickchartButton(domScope) {\n",
              "  let quickchartButtonEl =\n",
              "    domScope.querySelector('#df-eb124428-a676-4f5c-be36-8a933bcf6b92 button.colab-df-quickchart');\n",
              "  quickchartButtonEl.style.display =\n",
              "    google.colab.kernel.accessAllowed ? 'block' : 'none';\n",
              "}\n",
              "\n",
              "        displayQuickchartButton(document);\n",
              "      </script>\n",
              "      <style>\n",
              "    .colab-df-container {\n",
              "      display:flex;\n",
              "      flex-wrap:wrap;\n",
              "      gap: 12px;\n",
              "    }\n",
              "\n",
              "    .colab-df-convert {\n",
              "      background-color: #E8F0FE;\n",
              "      border: none;\n",
              "      border-radius: 50%;\n",
              "      cursor: pointer;\n",
              "      display: none;\n",
              "      fill: #1967D2;\n",
              "      height: 32px;\n",
              "      padding: 0 0 0 0;\n",
              "      width: 32px;\n",
              "    }\n",
              "\n",
              "    .colab-df-convert:hover {\n",
              "      background-color: #E2EBFA;\n",
              "      box-shadow: 0px 1px 2px rgba(60, 64, 67, 0.3), 0px 1px 3px 1px rgba(60, 64, 67, 0.15);\n",
              "      fill: #174EA6;\n",
              "    }\n",
              "\n",
              "    [theme=dark] .colab-df-convert {\n",
              "      background-color: #3B4455;\n",
              "      fill: #D2E3FC;\n",
              "    }\n",
              "\n",
              "    [theme=dark] .colab-df-convert:hover {\n",
              "      background-color: #434B5C;\n",
              "      box-shadow: 0px 1px 3px 1px rgba(0, 0, 0, 0.15);\n",
              "      filter: drop-shadow(0px 1px 2px rgba(0, 0, 0, 0.3));\n",
              "      fill: #FFFFFF;\n",
              "    }\n",
              "  </style>\n",
              "\n",
              "      <script>\n",
              "        const buttonEl =\n",
              "          document.querySelector('#df-ab49c97f-b4bd-4868-9f6e-87e7e942ed49 button.colab-df-convert');\n",
              "        buttonEl.style.display =\n",
              "          google.colab.kernel.accessAllowed ? 'block' : 'none';\n",
              "\n",
              "        async function convertToInteractive(key) {\n",
              "          const element = document.querySelector('#df-ab49c97f-b4bd-4868-9f6e-87e7e942ed49');\n",
              "          const dataTable =\n",
              "            await google.colab.kernel.invokeFunction('convertToInteractive',\n",
              "                                                     [key], {});\n",
              "          if (!dataTable) return;\n",
              "\n",
              "          const docLinkHtml = 'Like what you see? Visit the ' +\n",
              "            '<a target=\"_blank\" href=https://colab.research.google.com/notebooks/data_table.ipynb>data table notebook</a>'\n",
              "            + ' to learn more about interactive tables.';\n",
              "          element.innerHTML = '';\n",
              "          dataTable['output_type'] = 'display_data';\n",
              "          await google.colab.output.renderOutput(dataTable, element);\n",
              "          const docLink = document.createElement('div');\n",
              "          docLink.innerHTML = docLinkHtml;\n",
              "          element.appendChild(docLink);\n",
              "        }\n",
              "      </script>\n",
              "    </div>\n",
              "  </div>\n"
            ]
          },
          "metadata": {},
          "execution_count": 333
        }
      ]
    },
    {
      "cell_type": "markdown",
      "source": [],
      "metadata": {
        "id": "tigK6Xv2fwuQ"
      }
    },
    {
      "cell_type": "code",
      "source": [
        "#Drop Nan\n",
        "print('Initial amount of features: ', len(df.columns))\n",
        "df.dropna(axis=1)\n",
        "print('Amount of features after exclusion of NaN values: ', len(df.columns))"
      ],
      "metadata": {
        "colab": {
          "base_uri": "https://localhost:8080/"
        },
        "id": "YimSv7C0jVPd",
        "outputId": "c26d4edf-ee4a-4506-9d19-a7438819d002"
      },
      "execution_count": null,
      "outputs": [
        {
          "output_type": "stream",
          "name": "stdout",
          "text": [
            "Initial amount of features:  105\n",
            "Amount of features after exclusion of NaN values:  105\n"
          ]
        }
      ]
    },
    {
      "cell_type": "code",
      "source": [
        "# Defining features and target\n",
        "features = df.iloc[:,:-1]\n",
        "target = df.iloc[:,-1]\n",
        "print(features.shape, target.shape)"
      ],
      "metadata": {
        "colab": {
          "base_uri": "https://localhost:8080/"
        },
        "id": "v11IL9tEpBf2",
        "outputId": "a912dccc-f74e-427c-f7e0-1350cb094056"
      },
      "execution_count": null,
      "outputs": [
        {
          "output_type": "stream",
          "name": "stdout",
          "text": [
            "(438, 104) (438,)\n"
          ]
        }
      ]
    },
    {
      "cell_type": "code",
      "source": [
        "# Shuffle the data, splitting them into a training and a validation dataset\n",
        "from sklearn.model_selection import train_test_split\n",
        "X_train, X_val, y_train, y_val = train_test_split(features, target, test_size=0.33)\n",
        "print(X_train.shape, X_val.shape, y_train.shape, y_val.shape)\n",
        "del features, target"
      ],
      "metadata": {
        "colab": {
          "base_uri": "https://localhost:8080/"
        },
        "id": "sZ57BXdYO5DI",
        "outputId": "8a305397-1781-4609-99c4-8ff2263b9336"
      },
      "execution_count": null,
      "outputs": [
        {
          "output_type": "stream",
          "name": "stdout",
          "text": [
            "(293, 104) (145, 104) (293,) (145,)\n"
          ]
        }
      ]
    },
    {
      "cell_type": "code",
      "source": [
        "# Print features list\n",
        "features_list = list(X_train.columns)\n",
        "print(features_list)"
      ],
      "metadata": {
        "colab": {
          "base_uri": "https://localhost:8080/"
        },
        "id": "HdBnic6Bw7Qw",
        "outputId": "9554ad05-8a70-489c-d982-3d19e851c441"
      },
      "execution_count": null,
      "outputs": [
        {
          "output_type": "stream",
          "name": "stdout",
          "text": [
            "['shape_Flatness', 'shape_LeastAxisLength', 'shape_MajorAxisLength', 'shape_Maximum2DDiameterColumn', 'shape_Maximum2DDiameterRow', 'shape_Maximum2DDiameterSlice', 'shape_Maximum3DDiameter', 'shape_MeshVolume', 'shape_MinorAxisLength', 'shape_Sphericity', 'shape_SurfaceArea', 'shape_SurfaceVolumeRatio', 'shape_VoxelVolume', 'firstorder_10Percentile', 'firstorder_90Percentile', 'firstorder_Energy', 'firstorder_Entropy', 'firstorder_InterquartileRange', 'firstorder_Kurtosis', 'firstorder_Maximum', 'firstorder_MeanAbsoluteDeviation', 'firstorder_Mean', 'firstorder_Median', 'firstorder_Minimum', 'firstorder_Range', 'firstorder_RobustMeanAbsoluteDeviation', 'firstorder_RootMeanSquared', 'firstorder_Skewness', 'firstorder_TotalEnergy', 'firstorder_Uniformity', 'firstorder_Variance', 'glcm_Autocorrelation', 'glcm_JointAverage', 'glcm_ClusterProminence', 'glcm_ClusterShade', 'glcm_ClusterTendency', 'glcm_Contrast', 'glcm_Correlation', 'glcm_DifferenceAverage', 'glcm_DifferenceEntropy', 'glcm_DifferenceVariance', 'glcm_JointEnergy', 'glcm_JointEntropy', 'glcm_Imc1', 'glcm_Imc2', 'glcm_Idm', 'glcm_Idmn', 'glcm_Id', 'glcm_Idn', 'glcm_InverseVariance', 'glcm_MaximumProbability', 'glcm_SumEntropy', 'glcm_SumSquares', 'glrlm_GrayLevelNonUniformity', 'glrlm_GrayLevelNonUniformityNormalized', 'glrlm_GrayLevelVariance', 'glrlm_HighGrayLevelRunEmphasis', 'glrlm_LongRunEmphasis', 'glrlm_LongRunHighGrayLevelEmphasis', 'glrlm_LongRunLowGrayLevelEmphasis', 'glrlm_LowGrayLevelRunEmphasis', 'glrlm_RunEntropy', 'glrlm_RunLengthNonUniformity', 'glrlm_RunLengthNonUniformityNormalized', 'glrlm_RunPercentage', 'glrlm_RunVariance', 'glrlm_ShortRunEmphasis', 'glrlm_ShortRunHighGrayLevelEmphasis', 'glrlm_ShortRunLowGrayLevelEmphasis', 'glszm_GrayLevelNonUniformity', 'glszm_GrayLevelNonUniformityNormalized', 'glszm_GrayLevelVariance', 'glszm_HighGrayLevelZoneEmphasis', 'glszm_LargeAreaEmphasis', 'glszm_LargeAreaHighGrayLevelEmphasis', 'glszm_LargeAreaLowGrayLevelEmphasis', 'glszm_LowGrayLevelZoneEmphasis', 'glszm_SizeZoneNonUniformity', 'glszm_SizeZoneNonUniformityNormalized', 'glszm_SmallAreaEmphasis', 'glszm_SmallAreaHighGrayLevelEmphasis', 'glszm_SmallAreaLowGrayLevelEmphasis', 'glszm_ZoneEntropy', 'glszm_ZonePercentage', 'glszm_ZoneVariance', 'gldm_DependenceEntropy', 'gldm_DependenceNonUniformity', 'gldm_DependenceNonUniformityNormalized', 'gldm_DependenceVariance', 'gldm_GrayLevelNonUniformity', 'gldm_GrayLevelVariance', 'gldm_HighGrayLevelEmphasis', 'gldm_LargeDependenceEmphasis', 'gldm_LargeDependenceHighGrayLevelEmphasis', 'gldm_LargeDependenceLowGrayLevelEmphasis', 'gldm_LowGrayLevelEmphasis', 'gldm_SmallDependenceEmphasis', 'gldm_SmallDependenceHighGrayLevelEmphasis', 'gldm_SmallDependenceLowGrayLevelEmphasis', 'ngtdm_Busyness', 'ngtdm_Coarseness', 'ngtdm_Complexity', 'ngtdm_Contrast', 'ngtdm_Strength']\n"
          ]
        }
      ]
    },
    {
      "cell_type": "code",
      "source": [
        "# Check class balance\n",
        "counts = np.bincount(y_train)\n",
        "print(counts)\n",
        "print(\n",
        "    \"Number of positive samples in training data: {} ({:.2f}% of total)\".format(\n",
        "        counts[1], 100 * float(counts[1]) / len(y_train)\n",
        "    )\n",
        ")\n",
        "\n",
        "weight_for_0 = 1.0 / counts[0]\n",
        "weight_for_1 = 1.0 / counts[1]\n",
        "print(weight_for_0, weight_for_1)"
      ],
      "metadata": {
        "colab": {
          "base_uri": "https://localhost:8080/"
        },
        "id": "qNzkA0AKd7ZO",
        "outputId": "5a8c4503-c4ee-4a50-897e-b50a83c23be9"
      },
      "execution_count": null,
      "outputs": [
        {
          "output_type": "stream",
          "name": "stdout",
          "text": [
            "[178 115]\n",
            "Number of positive samples in training data: 115 (39.25% of total)\n",
            "0.0056179775280898875 0.008695652173913044\n"
          ]
        }
      ]
    },
    {
      "cell_type": "code",
      "source": [
        "#Selection of the features, which are not 'highly intercorrelated' (correlation is defined by Spearman coefficient);\n",
        "warnings.filterwarnings(\"ignore\", category=DeprecationWarning)\n",
        "def selectNonIntercorrelated(df_in, ftrs, corr_th):\n",
        "    corr_matrix = df_in.corr(method='spearman').abs()\n",
        "    mean_absolute_corr = corr_matrix.mean()\n",
        "    intercorrelated_features_set = []\n",
        "    upper = corr_matrix.where(np.triu(np.ones(corr_matrix.shape), k=1).astype(np.bool))\n",
        "    high_corrs = upper.where(upper > corr_th).dropna(how='all', axis=1).dropna(how='all', axis=0)\n",
        "\n",
        "    for feature in high_corrs.columns:\n",
        "        mean_absolute_main = mean_absolute_corr[feature]\n",
        "        correlated_with_feature = high_corrs[feature].index[pd.notnull(high_corrs[feature])]\n",
        "        for each_correlated_feature in correlated_with_feature:\n",
        "            mean_absolute = mean_absolute_corr[each_correlated_feature]\n",
        "            if mean_absolute_main > mean_absolute:\n",
        "                if feature not in intercorrelated_features_set:\n",
        "                    intercorrelated_features_set.append(feature)\n",
        "            else:\n",
        "                if each_correlated_feature not in intercorrelated_features_set:\n",
        "                    intercorrelated_features_set.append(each_correlated_feature)\n",
        "\n",
        "    non_intercorrelated_features_set = [e for e in ftrs if e not in intercorrelated_features_set]\n",
        "\n",
        "    print ('Non intercorrelated features: ', non_intercorrelated_features_set)\n",
        "\n",
        "    return non_intercorrelated_features_set\n",
        "features_non_intercorrelated = selectNonIntercorrelated(X_train, features_list,  0.9)\n",
        "print ('Number of non-intercorrelated features: ', len(features_non_intercorrelated))"
      ],
      "metadata": {
        "colab": {
          "base_uri": "https://localhost:8080/"
        },
        "id": "_lxKwK9WNUeN",
        "outputId": "f2a9fead-29dd-4c02-a87a-a92dcbbddca5"
      },
      "execution_count": null,
      "outputs": [
        {
          "output_type": "stream",
          "name": "stdout",
          "text": [
            "Non intercorrelated features:  ['shape_Flatness', 'shape_MajorAxisLength', 'shape_Maximum2DDiameterRow', 'shape_Sphericity', 'shape_SurfaceVolumeRatio', 'firstorder_90Percentile', 'firstorder_InterquartileRange', 'firstorder_Kurtosis', 'firstorder_Maximum', 'firstorder_Mean', 'firstorder_Median', 'firstorder_Minimum', 'firstorder_Range', 'firstorder_Skewness', 'firstorder_TotalEnergy', 'firstorder_Variance', 'glcm_ClusterShade', 'glcm_Correlation', 'glcm_Imc1', 'glcm_Imc2', 'glcm_InverseVariance', 'glrlm_LongRunLowGrayLevelEmphasis', 'glrlm_RunEntropy', 'glszm_GrayLevelNonUniformity', 'glszm_GrayLevelVariance', 'glszm_HighGrayLevelZoneEmphasis', 'glszm_LowGrayLevelZoneEmphasis', 'glszm_SizeZoneNonUniformity', 'glszm_SmallAreaEmphasis', 'glszm_ZoneEntropy', 'gldm_DependenceEntropy', 'gldm_DependenceVariance', 'gldm_HighGrayLevelEmphasis', 'gldm_LargeDependenceHighGrayLevelEmphasis', 'gldm_LargeDependenceLowGrayLevelEmphasis', 'gldm_LowGrayLevelEmphasis', 'gldm_SmallDependenceHighGrayLevelEmphasis', 'gldm_SmallDependenceLowGrayLevelEmphasis', 'ngtdm_Complexity']\n",
            "Number of non-intercorrelated features:  39\n"
          ]
        }
      ]
    },
    {
      "cell_type": "markdown",
      "source": [
        "---\n",
        "<b>Which is the optimal number of features to selected through RFE? <b>\n",
        "\n",
        "There are some rules of thumb on how many features are need:  \n",
        "* $int(\\frac{N_{samples}}{10})$ (Abu-Mostafa, Y. S., Magdon-Ismail, M., & Lin, H. T. (2012). Learning from data. New York: AMLBook.)  \n",
        "* $\\sqrt{N_{samples}}$ (Hua, J., Xiong, Z., Lowey, J., Suh, E., & Dougherty, E. R. (2005). Optimal number of features as a function of sample size for various classification rules. Bioinformatics, 21(8), 1509-1515.)\n",
        "----"
      ],
      "metadata": {
        "id": "BGuDKRUIQQxg"
      }
    },
    {
      "cell_type": "code",
      "source": [
        "print ('Number of samples in training dataset:', X_train.shape[0])\n",
        "print ('Number of features to select according to Abu-Mostafa:', int(X_train.shape[0]/10) )\n",
        "print ('Number of features to select according to Hua:', int(np.sqrt(X_train.shape[0])))"
      ],
      "metadata": {
        "colab": {
          "base_uri": "https://localhost:8080/"
        },
        "id": "QMREP6I3OIrm",
        "outputId": "8a163fee-0908-46b5-f662-b04cb2f3ac2f"
      },
      "execution_count": null,
      "outputs": [
        {
          "output_type": "stream",
          "name": "stdout",
          "text": [
            "Number of samples in training dataset: 293\n",
            "Number of features to select according to Abu-Mostafa: 29\n",
            "Number of features to select according to Hua: 17\n"
          ]
        }
      ]
    },
    {
      "cell_type": "code",
      "source": [
        "# RFE based on Random Forest Classifier, RFC (https://scikit-learn.org/stable/modules/generated/sklearn.ensemble.RandomForestClassifier.html).\n",
        "\n",
        "estimator = RandomForestClassifier(n_estimators=100, random_state=np.random.seed(42))\n",
        "selector = RFE(estimator, n_features_to_select=17, step=1)\n",
        "selector = selector.fit(X_train[features_non_intercorrelated], y_train)\n",
        "support = selector.get_support()\n",
        "selected_features_set = X_train[features_non_intercorrelated].loc[:, support].columns.tolist()\n",
        "\n",
        "print (selected_features_set)"
      ],
      "metadata": {
        "id": "wOFJaBzNTUK9",
        "colab": {
          "base_uri": "https://localhost:8080/"
        },
        "outputId": "f8674033-1518-4e4f-93ec-c32f7075fa54"
      },
      "execution_count": null,
      "outputs": [
        {
          "output_type": "stream",
          "name": "stdout",
          "text": [
            "['shape_Flatness', 'shape_MajorAxisLength', 'shape_Sphericity', 'shape_SurfaceVolumeRatio', 'firstorder_90Percentile', 'firstorder_Kurtosis', 'firstorder_Maximum', 'firstorder_Minimum', 'firstorder_Range', 'firstorder_Skewness', 'firstorder_TotalEnergy', 'firstorder_Variance', 'glrlm_RunEntropy', 'glszm_GrayLevelVariance', 'glszm_LowGrayLevelZoneEmphasis', 'gldm_DependenceEntropy', 'gldm_DependenceVariance']\n"
          ]
        }
      ]
    },
    {
      "cell_type": "markdown",
      "source": [
        "Let's check if the number of selected features is actually the optimal one for this dataset through a datadriven method."
      ],
      "metadata": {
        "id": "gDu2v-RyVC89"
      }
    },
    {
      "cell_type": "code",
      "source": [
        "# ranking the features based on RFE results\n",
        "\n",
        "features_ranks = pd.DataFrame({'Features': features_non_intercorrelated, 'Ranks': selector.ranking_})\n",
        "features_ranks.sort_values(by='Ranks', inplace = True)\n",
        "\n",
        "# taking one best feature first, building the RFC, estimating the performance;\n",
        "# adding +1 next feature, repeating the steps to estimate the performance\n",
        "\n",
        "ftrs_number_tuning = []\n",
        "acc_tuning = []\n",
        "\n",
        "for i in range (1, len(features_ranks)):\n",
        "\n",
        "    ftrs_number_tuning.append(i)\n",
        "    estimator_tuning = RandomForestClassifier(n_estimators=100, random_state=np.random.seed(42))\n",
        "    estimator_tuning.fit(X_train[features_ranks['Features'][:i]], y_train)\n",
        "    outcome_pred_tuning = estimator_tuning.predict(X_val[features_ranks['Features'][:i]])\n",
        "    acc_tuning.append(balanced_accuracy_score(y_val, outcome_pred_tuning))\n",
        "\n",
        "# plotting the results\n",
        "plt.figure(figsize=(6, 4))\n",
        "plt.plot(ftrs_number_tuning, acc_tuning)\n",
        "plt.xlabel('Number of features')\n",
        "plt.ylabel('RFC performance')\n",
        "plt.title('RFC performance depending on number of selected features')\n",
        "plt.show()\n"
      ],
      "metadata": {
        "id": "X1XtXSYuyXgq",
        "colab": {
          "base_uri": "https://localhost:8080/",
          "height": 410
        },
        "outputId": "be4339c8-2afd-4015-91c1-11a99a275f05"
      },
      "execution_count": null,
      "outputs": [
        {
          "output_type": "display_data",
          "data": {
            "text/plain": [
              "<Figure size 600x400 with 1 Axes>"
            ],
            "image/png": "[encoded data removed]"
          },
          "metadata": {}
        }
      ]
    },
    {
      "cell_type": "code",
      "source": [
        "# Pick the selected features from the dataset\n",
        "X_train_sel = X_train[selected_features_set]\n",
        "X_val_sel = X_val[selected_features_set]"
      ],
      "metadata": {
        "id": "A2fW6wp00KYU"
      },
      "execution_count": null,
      "outputs": []
    },
    {
      "cell_type": "markdown",
      "source": [
        "# MODEL 1: RFC"
      ],
      "metadata": {
        "id": "3ssl7ZNDWjMN"
      }
    },
    {
      "cell_type": "code",
      "source": [
        "rfc = RandomForestClassifier(n_estimators=100, random_state=np.random.seed(42))\n",
        "rfc.fit(X_train_sel, y_train)"
      ],
      "metadata": {
        "id": "nLo1RwNoWiRt",
        "colab": {
          "base_uri": "https://localhost:8080/",
          "height": 75
        },
        "outputId": "7be485f5-268e-49c8-8bf1-243986b5de1b"
      },
      "execution_count": null,
      "outputs": [
        {
          "output_type": "execute_result",
          "data": {
            "text/plain": [
              "RandomForestClassifier()"
            ],
            "text/html": [
              "<style>#sk-container-id-4 {color: black;background-color: white;}#sk-container-id-4 pre{padding: 0;}#sk-container-id-4 div.sk-toggleable {background-color: white;}#sk-container-id-4 label.sk-toggleable__label {cursor: pointer;display: block;width: 100%;margin-bottom: 0;padding: 0.3em;box-sizing: border-box;text-align: center;}#sk-container-id-4 label.sk-toggleable__label-arrow:before {content: \"▸\";float: left;margin-right: 0.25em;color: #696969;}#sk-container-id-4 label.sk-toggleable__label-arrow:hover:before {color: black;}#sk-container-id-4 div.sk-estimator:hover label.sk-toggleable__label-arrow:before {color: black;}#sk-container-id-4 div.sk-toggleable__content {max-height: 0;max-width: 0;overflow: hidden;text-align: left;background-color: #f0f8ff;}#sk-container-id-4 div.sk-toggleable__content pre {margin: 0.2em;color: black;border-radius: 0.25em;background-color: #f0f8ff;}#sk-container-id-4 input.sk-toggleable__control:checked~div.sk-toggleable__content {max-height: 200px;max-width: 100%;overflow: auto;}#sk-container-id-4 input.sk-toggleable__control:checked~label.sk-toggleable__label-arrow:before {content: \"▾\";}#sk-container-id-4 div.sk-estimator input.sk-toggleable__control:checked~label.sk-toggleable__label {background-color: #d4ebff;}#sk-container-id-4 div.sk-label input.sk-toggleable__control:checked~label.sk-toggleable__label {background-color: #d4ebff;}#sk-container-id-4 input.sk-hidden--visually {border: 0;clip: rect(1px 1px 1px 1px);clip: rect(1px, 1px, 1px, 1px);height: 1px;margin: -1px;overflow: hidden;padding: 0;position: absolute;width: 1px;}#sk-container-id-4 div.sk-estimator {font-family: monospace;background-color: #f0f8ff;border: 1px dotted black;border-radius: 0.25em;box-sizing: border-box;margin-bottom: 0.5em;}#sk-container-id-4 div.sk-estimator:hover {background-color: #d4ebff;}#sk-container-id-4 div.sk-parallel-item::after {content: \"\";width: 100%;border-bottom: 1px solid gray;flex-grow: 1;}#sk-container-id-4 div.sk-label:hover label.sk-toggleable__label {background-color: #d4ebff;}#sk-container-id-4 div.sk-serial::before {content: \"\";position: absolute;border-left: 1px solid gray;box-sizing: border-box;top: 0;bottom: 0;left: 50%;z-index: 0;}#sk-container-id-4 div.sk-serial {display: flex;flex-direction: column;align-items: center;background-color: white;padding-right: 0.2em;padding-left: 0.2em;position: relative;}#sk-container-id-4 div.sk-item {position: relative;z-index: 1;}#sk-container-id-4 div.sk-parallel {display: flex;align-items: stretch;justify-content: center;background-color: white;position: relative;}#sk-container-id-4 div.sk-item::before, #sk-container-id-4 div.sk-parallel-item::before {content: \"\";position: absolute;border-left: 1px solid gray;box-sizing: border-box;top: 0;bottom: 0;left: 50%;z-index: -1;}#sk-container-id-4 div.sk-parallel-item {display: flex;flex-direction: column;z-index: 1;position: relative;background-color: white;}#sk-container-id-4 div.sk-parallel-item:first-child::after {align-self: flex-end;width: 50%;}#sk-container-id-4 div.sk-parallel-item:last-child::after {align-self: flex-start;width: 50%;}#sk-container-id-4 div.sk-parallel-item:only-child::after {width: 0;}#sk-container-id-4 div.sk-dashed-wrapped {border: 1px dashed gray;margin: 0 0.4em 0.5em 0.4em;box-sizing: border-box;padding-bottom: 0.4em;background-color: white;}#sk-container-id-4 div.sk-label label {font-family: monospace;font-weight: bold;display: inline-block;line-height: 1.2em;}#sk-container-id-4 div.sk-label-container {text-align: center;}#sk-container-id-4 div.sk-container {/* jupyter's `normalize.less` sets `[hidden] { display: none; }` but bootstrap.min.css set `[hidden] { display: none !important; }` so we also need the `!important` here to be able to override the default hidden behavior on the sphinx rendered scikit-learn.org. See: https://github.com/scikit-learn/scikit-learn/issues/21755 */display: inline-block !important;position: relative;}#sk-container-id-4 div.sk-text-repr-fallback {display: none;}</style><div id=\"sk-container-id-4\" class=\"sk-top-container\"><div class=\"sk-text-repr-fallback\"><pre>RandomForestClassifier()</pre><b>In a Jupyter environment, please rerun this cell to show the HTML representation or trust the notebook. <br />On GitHub, the HTML representation is unable to render, please try loading this page with nbviewer.org.</b></div><div class=\"sk-container\" hidden><div class=\"sk-item\"><div class=\"sk-estimator sk-toggleable\"><input class=\"sk-toggleable__control sk-hidden--visually\" id=\"sk-estimator-id-4\" type=\"checkbox\" checked><label for=\"sk-estimator-id-4\" class=\"sk-toggleable__label sk-toggleable__label-arrow\">RandomForestClassifier</label><div class=\"sk-toggleable__content\"><pre>RandomForestClassifier()</pre></div></div></div></div></div>"
            ]
          },
          "metadata": {},
          "execution_count": 278
        }
      ]
    },
    {
      "cell_type": "code",
      "source": [
        "# Defining prediction for the testing set\n",
        "outcome_pred_rfc = rfc.predict(X_val_sel)\n",
        "\n",
        "#Evaluate performance through different metrics\n",
        "print(classification_report(outcome_pred_rfc, y_val))\n",
        "\n",
        "fpr, tpr, _ = roc_curve(y_val, rfc.predict_proba(X_val_sel)[:, 1])\n",
        "roc_auc = roc_auc_score(outcome_pred_rfc, y_val)\n",
        "\n",
        "cm = confusion_matrix(outcome_pred_rfc, y_val)\n",
        "\n",
        "fig, axes = plt.subplots(1, 2, figsize=(8, 4))\n",
        "axes[0].plot(fpr, tpr)\n",
        "axes[0].set_title('RFC ROC curve (AUC = {})'.format(roc_auc))\n",
        "axes[0].set_xlabel('FPR')\n",
        "axes[0].set_ylabel('TPR')\n",
        "\n",
        "f = sns.heatmap(cm, annot=True)\n",
        "axes[1].set_title('Confusion matrix for RFC')\n",
        "\n",
        "plt.tight_layout()\n",
        "plt.show()"
      ],
      "metadata": {
        "id": "MLveX-njWyjG",
        "colab": {
          "base_uri": "https://localhost:8080/",
          "height": 563
        },
        "outputId": "6313f7a6-1780-4973-b69b-549281dc5eb5"
      },
      "execution_count": null,
      "outputs": [
        {
          "output_type": "stream",
          "name": "stdout",
          "text": [
            "              precision    recall  f1-score   support\n",
            "\n",
            "           0       0.95      0.92      0.94        91\n",
            "           1       0.88      0.93      0.90        54\n",
            "\n",
            "    accuracy                           0.92       145\n",
            "   macro avg       0.92      0.92      0.92       145\n",
            "weighted avg       0.93      0.92      0.92       145\n",
            "\n"
          ]
        },
        {
          "output_type": "display_data",
          "data": {
            "text/plain": [
              "<Figure size 800x400 with 3 Axes>"
            ],
            "image/png": "[encoded data removed]"
          },
          "metadata": {}
        }
      ]
    },
    {
      "cell_type": "markdown",
      "source": [
        "#MODEL 2: XGBoost"
      ],
      "metadata": {
        "id": "Bi0iHmGFaG6Z"
      }
    },
    {
      "cell_type": "code",
      "source": [
        "#Model definition\n",
        "dtrain = xgb.DMatrix(X_train_sel, label=y_train)\n",
        "dtest = xgb.DMatrix(X_val_sel, label=y_val)\n",
        "param = {'objective': 'binary:logistic', 'eval_metric': 'aucpr'}\n",
        "evallist = [(dtest, 'eval'), (dtrain, 'train')]"
      ],
      "metadata": {
        "id": "2lfH1m5oXWEO"
      },
      "execution_count": null,
      "outputs": []
    },
    {
      "cell_type": "code",
      "source": [
        "#Training\n",
        "num_round = 10\n",
        "bst = xgb.train(param, dtrain, num_round, evallist)\n",
        "\n",
        "outcome_pred_xgb = bst.predict(dtest)"
      ],
      "metadata": {
        "id": "1wXpsuBiaiP0",
        "colab": {
          "base_uri": "https://localhost:8080/"
        },
        "outputId": "524473a6-629f-445b-aff3-37b558b511e4"
      },
      "execution_count": null,
      "outputs": [
        {
          "output_type": "stream",
          "name": "stdout",
          "text": [
            "[0]\teval-aucpr:0.66627\ttrain-aucpr:0.87731\n",
            "[1]\teval-aucpr:0.86423\ttrain-aucpr:0.96190\n",
            "[2]\teval-aucpr:0.90485\ttrain-aucpr:0.99060\n",
            "[3]\teval-aucpr:0.91272\ttrain-aucpr:0.99349\n",
            "[4]\teval-aucpr:0.92490\ttrain-aucpr:0.99712\n",
            "[5]\teval-aucpr:0.93968\ttrain-aucpr:0.99813\n",
            "[6]\teval-aucpr:0.94657\ttrain-aucpr:0.99933\n",
            "[7]\teval-aucpr:0.94510\ttrain-aucpr:0.99939\n",
            "[8]\teval-aucpr:0.94528\ttrain-aucpr:0.99966\n",
            "[9]\teval-aucpr:0.95065\ttrain-aucpr:0.99966\n"
          ]
        },
        {
          "output_type": "stream",
          "name": "stderr",
          "text": [
            "/usr/local/lib/python3.10/dist-packages/xgboost/core.py:617: FutureWarning: Pass `evals` as keyword args.\n",
            "  warnings.warn(msg, FutureWarning)\n"
          ]
        }
      ]
    },
    {
      "cell_type": "code",
      "source": [
        "print (classification_report(y_val, outcome_pred_xgb>0.5))\n",
        "\n",
        "fpr, tpr, _ = roc_curve(y_val, outcome_pred_xgb>0.5)\n",
        "roc_auc = roc_auc_score(y_val, outcome_pred_xgb>0.5)\n",
        "\n",
        "cm = confusion_matrix(y_val, outcome_pred_xgb>0.5)\n",
        "\n",
        "fig, axes = plt.subplots(1, 2, figsize=(9, 4))\n",
        "axes[0].plot(fpr, tpr)\n",
        "axes[0].set_title('XGBoost ROC curve (AUC = {})'.format(roc_auc))\n",
        "axes[0].set_xlabel('FPR')\n",
        "axes[0].set_ylabel('TPR')\n",
        "\n",
        "f = sns.heatmap(cm, annot=True)\n",
        "axes[1].set_title('Confusion matrix for XGBoost')\n",
        "\n",
        "plt.tight_layout()\n",
        "plt.show()"
      ],
      "metadata": {
        "id": "rLuy1Mfba9Y3",
        "colab": {
          "base_uri": "https://localhost:8080/",
          "height": 563
        },
        "outputId": "8e49b460-ba49-447c-cc03-851a399d9b11"
      },
      "execution_count": null,
      "outputs": [
        {
          "output_type": "stream",
          "name": "stdout",
          "text": [
            "              precision    recall  f1-score   support\n",
            "\n",
            "           0       0.88      0.92      0.90        88\n",
            "           1       0.87      0.81      0.84        57\n",
            "\n",
            "    accuracy                           0.88       145\n",
            "   macro avg       0.87      0.86      0.87       145\n",
            "weighted avg       0.88      0.88      0.87       145\n",
            "\n"
          ]
        },
        {
          "output_type": "display_data",
          "data": {
            "text/plain": [
              "<Figure size 900x400 with 3 Axes>"
            ],
            "image/png": "[encoded data removed]"
          },
          "metadata": {}
        }
      ]
    },
    {
      "cell_type": "markdown",
      "metadata": {
        "id": "GkNz5UAhXIwg"
      },
      "source": [
        "# Multilayer Perceptron (MLP)"
      ]
    },
    {
      "cell_type": "code",
      "source": [
        "import tensorflow as tf\n",
        "from tensorflow import keras\n",
        "from tensorflow.keras.models import Model\n",
        "from tensorflow.keras.layers import Dense, Input, Dropout, Flatten, Activation\n",
        "from tensorflow.keras.utils import plot_model\n",
        "from tensorflow.keras import backend as K\n",
        "from tensorflow.keras import metrics, optimizers\n",
        "from tensorflow.keras.callbacks import EarlyStopping, ReduceLROnPlateau, TerminateOnNaN"
      ],
      "metadata": {
        "id": "C7D_0RsNSZIQ"
      },
      "execution_count": null,
      "outputs": []
    },
    {
      "cell_type": "code",
      "source": [
        "# Normalize the dataset\n",
        "mean = np.mean(X_train_sel, axis=0)\n",
        "X_train_sel -= mean\n",
        "X_val_sel -= mean\n",
        "std = np.std(X_train_sel, axis=0)\n",
        "X_train_sel /= std\n",
        "X_val_sel /= std"
      ],
      "metadata": {
        "id": "uhggyaeBAwbA"
      },
      "execution_count": null,
      "outputs": []
    },
    {
      "cell_type": "code",
      "source": [
        "# Model architecture\n",
        "input_shape = X_train_sel.shape[1]\n",
        "dropoutRate = 0.3\n",
        "#\n",
        "inputArray = Input(shape=(input_shape,))\n",
        "#\n",
        "x = Dense(30, activation='relu')(inputArray)\n",
        "x = Dropout(dropoutRate)(x)\n",
        "#\n",
        "x = Dense(15)(x)\n",
        "x = Activation('relu')(x)\n",
        "x = Dropout(dropoutRate)(x)\n",
        "#\n",
        "x = Dense(5, activation='sigmoid')(x)\n",
        "#\n",
        "output = Dense(1, activation='sigmoid')(x)\n",
        "####\n",
        "model = Model(inputs=inputArray, outputs=output)"
      ],
      "metadata": {
        "id": "ofqUk0Uq3SEO"
      },
      "execution_count": null,
      "outputs": []
    },
    {
      "cell_type": "code",
      "source": [
        "# Set random seed for reproducibility\n",
        "seed_value = 42\n",
        "np.random.seed(seed_value)\n",
        "tf.random.set_seed(seed_value)\n",
        "\n",
        "#Compile the model\n",
        "model.compile(loss='binary_crossentropy', optimizer=keras.optimizers.Adam(0.001), metrics='accuracy')\n",
        "model.summary()"
      ],
      "metadata": {
        "colab": {
          "base_uri": "https://localhost:8080/"
        },
        "id": "4lfqUXgX3R-P",
        "outputId": "78b79d41-c320-4230-ebc0-fb9de3e96a64"
      },
      "execution_count": null,
      "outputs": [
        {
          "output_type": "stream",
          "name": "stdout",
          "text": [
            "Model: \"model_79\"\n",
            "_________________________________________________________________\n",
            " Layer (type)                Output Shape              Param #   \n",
            "=================================================================\n",
            " input_80 (InputLayer)       [(None, 17)]              0         \n",
            "                                                                 \n",
            " dense_313 (Dense)           (None, 30)                540       \n",
            "                                                                 \n",
            " dropout_152 (Dropout)       (None, 30)                0         \n",
            "                                                                 \n",
            " dense_314 (Dense)           (None, 15)                465       \n",
            "                                                                 \n",
            " activation_72 (Activation)  (None, 15)                0         \n",
            "                                                                 \n",
            " dropout_153 (Dropout)       (None, 15)                0         \n",
            "                                                                 \n",
            " dense_315 (Dense)           (None, 5)                 80        \n",
            "                                                                 \n",
            " dense_316 (Dense)           (None, 1)                 6         \n",
            "                                                                 \n",
            "=================================================================\n",
            "Total params: 1,091\n",
            "Trainable params: 1,091\n",
            "Non-trainable params: 0\n",
            "_________________________________________________________________\n"
          ]
        }
      ]
    },
    {
      "cell_type": "code",
      "source": [
        "# Parameters settings\n",
        "callbacks = [EarlyStopping(monitor='val_loss', patience=10, verbose=1),\n",
        "             ReduceLROnPlateau(monitor='val_loss', factor=0.1, patience=2, verbose=1),\n",
        "             TerminateOnNaN()]\n",
        "\n",
        "\n",
        "batch_size = 32\n",
        "n_epochs = 70\n",
        "\n",
        "# train\n",
        "history = model.fit(X_train_sel, y_train, epochs=n_epochs, batch_size=batch_size, verbose = 2,\n",
        "                validation_data=(X_val_sel, y_val),\n",
        "                callbacks = callbacks,\n",
        "                )"
      ],
      "metadata": {
        "colab": {
          "base_uri": "https://localhost:8080/"
        },
        "id": "5LOLf4l33R7N",
        "outputId": "1026f919-9e89-4f72-ed2b-fad18f4d3581"
      },
      "execution_count": null,
      "outputs": [
        {
          "output_type": "stream",
          "name": "stdout",
          "text": [
            "Epoch 1/70\n",
            "10/10 - 2s - loss: 0.7109 - accuracy: 0.4232 - val_loss: 0.6966 - val_accuracy: 0.4897 - lr: 0.0010 - 2s/epoch - 229ms/step\n",
            "Epoch 2/70\n",
            "10/10 - 0s - loss: 0.7017 - accuracy: 0.4403 - val_loss: 0.6869 - val_accuracy: 0.5448 - lr: 0.0010 - 110ms/epoch - 11ms/step\n",
            "Epoch 3/70\n",
            "10/10 - 0s - loss: 0.6938 - accuracy: 0.5051 - val_loss: 0.6803 - val_accuracy: 0.6069 - lr: 0.0010 - 108ms/epoch - 11ms/step\n",
            "Epoch 4/70\n",
            "10/10 - 0s - loss: 0.6878 - accuracy: 0.5529 - val_loss: 0.6751 - val_accuracy: 0.6207 - lr: 0.0010 - 107ms/epoch - 11ms/step\n",
            "Epoch 5/70\n",
            "10/10 - 0s - loss: 0.6828 - accuracy: 0.5700 - val_loss: 0.6710 - val_accuracy: 0.6276 - lr: 0.0010 - 111ms/epoch - 11ms/step\n",
            "Epoch 6/70\n",
            "10/10 - 0s - loss: 0.6756 - accuracy: 0.5836 - val_loss: 0.6667 - val_accuracy: 0.6207 - lr: 0.0010 - 110ms/epoch - 11ms/step\n",
            "Epoch 7/70\n",
            "10/10 - 0s - loss: 0.6769 - accuracy: 0.5904 - val_loss: 0.6632 - val_accuracy: 0.6207 - lr: 0.0010 - 106ms/epoch - 11ms/step\n",
            "Epoch 8/70\n",
            "10/10 - 0s - loss: 0.6734 - accuracy: 0.5836 - val_loss: 0.6595 - val_accuracy: 0.6207 - lr: 0.0010 - 111ms/epoch - 11ms/step\n",
            "Epoch 9/70\n",
            "10/10 - 0s - loss: 0.6688 - accuracy: 0.6177 - val_loss: 0.6562 - val_accuracy: 0.6207 - lr: 0.0010 - 116ms/epoch - 12ms/step\n",
            "Epoch 10/70\n",
            "10/10 - 0s - loss: 0.6689 - accuracy: 0.6143 - val_loss: 0.6533 - val_accuracy: 0.6207 - lr: 0.0010 - 114ms/epoch - 11ms/step\n",
            "Epoch 11/70\n",
            "10/10 - 0s - loss: 0.6669 - accuracy: 0.5836 - val_loss: 0.6509 - val_accuracy: 0.6207 - lr: 0.0010 - 110ms/epoch - 11ms/step\n",
            "Epoch 12/70\n",
            "10/10 - 0s - loss: 0.6602 - accuracy: 0.6041 - val_loss: 0.6477 - val_accuracy: 0.6069 - lr: 0.0010 - 111ms/epoch - 11ms/step\n",
            "Epoch 13/70\n",
            "10/10 - 0s - loss: 0.6569 - accuracy: 0.6143 - val_loss: 0.6442 - val_accuracy: 0.6069 - lr: 0.0010 - 109ms/epoch - 11ms/step\n",
            "Epoch 14/70\n",
            "10/10 - 0s - loss: 0.6558 - accuracy: 0.6212 - val_loss: 0.6412 - val_accuracy: 0.6069 - lr: 0.0010 - 107ms/epoch - 11ms/step\n",
            "Epoch 15/70\n",
            "10/10 - 0s - loss: 0.6527 - accuracy: 0.6109 - val_loss: 0.6383 - val_accuracy: 0.6207 - lr: 0.0010 - 103ms/epoch - 10ms/step\n",
            "Epoch 16/70\n",
            "10/10 - 0s - loss: 0.6506 - accuracy: 0.6382 - val_loss: 0.6364 - val_accuracy: 0.6207 - lr: 0.0010 - 108ms/epoch - 11ms/step\n",
            "Epoch 17/70\n",
            "10/10 - 0s - loss: 0.6463 - accuracy: 0.6280 - val_loss: 0.6328 - val_accuracy: 0.6207 - lr: 0.0010 - 104ms/epoch - 10ms/step\n",
            "Epoch 18/70\n",
            "10/10 - 0s - loss: 0.6489 - accuracy: 0.6212 - val_loss: 0.6288 - val_accuracy: 0.6276 - lr: 0.0010 - 103ms/epoch - 10ms/step\n",
            "Epoch 19/70\n",
            "10/10 - 0s - loss: 0.6452 - accuracy: 0.6314 - val_loss: 0.6245 - val_accuracy: 0.6345 - lr: 0.0010 - 114ms/epoch - 11ms/step\n",
            "Epoch 20/70\n",
            "10/10 - 0s - loss: 0.6430 - accuracy: 0.6075 - val_loss: 0.6201 - val_accuracy: 0.6414 - lr: 0.0010 - 108ms/epoch - 11ms/step\n",
            "Epoch 21/70\n",
            "10/10 - 0s - loss: 0.6408 - accuracy: 0.6280 - val_loss: 0.6155 - val_accuracy: 0.6621 - lr: 0.0010 - 112ms/epoch - 11ms/step\n",
            "Epoch 22/70\n",
            "10/10 - 0s - loss: 0.6320 - accuracy: 0.6382 - val_loss: 0.6108 - val_accuracy: 0.6552 - lr: 0.0010 - 109ms/epoch - 11ms/step\n",
            "Epoch 23/70\n",
            "10/10 - 0s - loss: 0.6287 - accuracy: 0.6451 - val_loss: 0.6067 - val_accuracy: 0.6552 - lr: 0.0010 - 101ms/epoch - 10ms/step\n",
            "Epoch 24/70\n",
            "10/10 - 0s - loss: 0.6268 - accuracy: 0.6314 - val_loss: 0.6026 - val_accuracy: 0.6483 - lr: 0.0010 - 111ms/epoch - 11ms/step\n",
            "Epoch 25/70\n",
            "10/10 - 0s - loss: 0.6240 - accuracy: 0.6177 - val_loss: 0.5987 - val_accuracy: 0.6483 - lr: 0.0010 - 72ms/epoch - 7ms/step\n",
            "Epoch 26/70\n",
            "10/10 - 0s - loss: 0.6172 - accuracy: 0.6519 - val_loss: 0.5945 - val_accuracy: 0.6552 - lr: 0.0010 - 83ms/epoch - 8ms/step\n",
            "Epoch 27/70\n",
            "10/10 - 0s - loss: 0.6233 - accuracy: 0.6655 - val_loss: 0.5904 - val_accuracy: 0.6552 - lr: 0.0010 - 76ms/epoch - 8ms/step\n",
            "Epoch 28/70\n",
            "10/10 - 0s - loss: 0.6137 - accuracy: 0.6928 - val_loss: 0.5870 - val_accuracy: 0.6621 - lr: 0.0010 - 71ms/epoch - 7ms/step\n",
            "Epoch 29/70\n",
            "10/10 - 0s - loss: 0.6164 - accuracy: 0.6382 - val_loss: 0.5835 - val_accuracy: 0.6828 - lr: 0.0010 - 88ms/epoch - 9ms/step\n",
            "Epoch 30/70\n",
            "10/10 - 0s - loss: 0.5988 - accuracy: 0.7031 - val_loss: 0.5794 - val_accuracy: 0.6897 - lr: 0.0010 - 71ms/epoch - 7ms/step\n",
            "Epoch 31/70\n",
            "10/10 - 0s - loss: 0.6008 - accuracy: 0.7167 - val_loss: 0.5749 - val_accuracy: 0.6966 - lr: 0.0010 - 81ms/epoch - 8ms/step\n",
            "Epoch 32/70\n",
            "10/10 - 0s - loss: 0.6022 - accuracy: 0.6860 - val_loss: 0.5703 - val_accuracy: 0.7103 - lr: 0.0010 - 77ms/epoch - 8ms/step\n",
            "Epoch 33/70\n",
            "10/10 - 0s - loss: 0.5969 - accuracy: 0.6792 - val_loss: 0.5669 - val_accuracy: 0.7034 - lr: 0.0010 - 70ms/epoch - 7ms/step\n",
            "Epoch 34/70\n",
            "10/10 - 0s - loss: 0.5835 - accuracy: 0.7031 - val_loss: 0.5628 - val_accuracy: 0.7172 - lr: 0.0010 - 81ms/epoch - 8ms/step\n",
            "Epoch 35/70\n",
            "10/10 - 0s - loss: 0.5946 - accuracy: 0.7201 - val_loss: 0.5591 - val_accuracy: 0.7103 - lr: 0.0010 - 74ms/epoch - 7ms/step\n",
            "Epoch 36/70\n",
            "10/10 - 0s - loss: 0.5847 - accuracy: 0.7099 - val_loss: 0.5560 - val_accuracy: 0.7448 - lr: 0.0010 - 71ms/epoch - 7ms/step\n",
            "Epoch 37/70\n",
            "10/10 - 0s - loss: 0.5847 - accuracy: 0.6962 - val_loss: 0.5532 - val_accuracy: 0.7448 - lr: 0.0010 - 70ms/epoch - 7ms/step\n",
            "Epoch 38/70\n",
            "10/10 - 0s - loss: 0.5858 - accuracy: 0.7031 - val_loss: 0.5510 - val_accuracy: 0.7379 - lr: 0.0010 - 78ms/epoch - 8ms/step\n",
            "Epoch 39/70\n",
            "10/10 - 0s - loss: 0.5755 - accuracy: 0.7372 - val_loss: 0.5499 - val_accuracy: 0.7379 - lr: 0.0010 - 87ms/epoch - 9ms/step\n",
            "Epoch 40/70\n",
            "10/10 - 0s - loss: 0.5664 - accuracy: 0.7440 - val_loss: 0.5466 - val_accuracy: 0.7310 - lr: 0.0010 - 72ms/epoch - 7ms/step\n",
            "Epoch 41/70\n",
            "10/10 - 0s - loss: 0.5698 - accuracy: 0.7543 - val_loss: 0.5455 - val_accuracy: 0.7103 - lr: 0.0010 - 84ms/epoch - 8ms/step\n",
            "Epoch 42/70\n",
            "10/10 - 0s - loss: 0.5595 - accuracy: 0.7304 - val_loss: 0.5439 - val_accuracy: 0.7034 - lr: 0.0010 - 89ms/epoch - 9ms/step\n",
            "Epoch 43/70\n",
            "10/10 - 0s - loss: 0.5732 - accuracy: 0.7065 - val_loss: 0.5424 - val_accuracy: 0.7103 - lr: 0.0010 - 80ms/epoch - 8ms/step\n",
            "Epoch 44/70\n",
            "10/10 - 0s - loss: 0.5516 - accuracy: 0.7577 - val_loss: 0.5393 - val_accuracy: 0.7103 - lr: 0.0010 - 72ms/epoch - 7ms/step\n",
            "Epoch 45/70\n",
            "10/10 - 0s - loss: 0.5464 - accuracy: 0.7543 - val_loss: 0.5350 - val_accuracy: 0.7103 - lr: 0.0010 - 71ms/epoch - 7ms/step\n",
            "Epoch 46/70\n",
            "10/10 - 0s - loss: 0.5474 - accuracy: 0.7509 - val_loss: 0.5313 - val_accuracy: 0.7241 - lr: 0.0010 - 69ms/epoch - 7ms/step\n",
            "Epoch 47/70\n",
            "10/10 - 0s - loss: 0.5427 - accuracy: 0.7577 - val_loss: 0.5297 - val_accuracy: 0.7172 - lr: 0.0010 - 74ms/epoch - 7ms/step\n",
            "Epoch 48/70\n",
            "10/10 - 0s - loss: 0.5488 - accuracy: 0.7577 - val_loss: 0.5287 - val_accuracy: 0.7103 - lr: 0.0010 - 74ms/epoch - 7ms/step\n",
            "Epoch 49/70\n",
            "10/10 - 0s - loss: 0.5482 - accuracy: 0.7713 - val_loss: 0.5268 - val_accuracy: 0.7310 - lr: 0.0010 - 74ms/epoch - 7ms/step\n",
            "Epoch 50/70\n",
            "10/10 - 0s - loss: 0.5477 - accuracy: 0.7338 - val_loss: 0.5257 - val_accuracy: 0.7310 - lr: 0.0010 - 75ms/epoch - 7ms/step\n",
            "Epoch 51/70\n",
            "10/10 - 0s - loss: 0.5542 - accuracy: 0.7406 - val_loss: 0.5238 - val_accuracy: 0.7310 - lr: 0.0010 - 72ms/epoch - 7ms/step\n",
            "Epoch 52/70\n",
            "10/10 - 0s - loss: 0.5488 - accuracy: 0.7474 - val_loss: 0.5228 - val_accuracy: 0.7379 - lr: 0.0010 - 80ms/epoch - 8ms/step\n",
            "Epoch 53/70\n",
            "10/10 - 0s - loss: 0.5357 - accuracy: 0.7679 - val_loss: 0.5201 - val_accuracy: 0.7448 - lr: 0.0010 - 71ms/epoch - 7ms/step\n",
            "Epoch 54/70\n",
            "10/10 - 0s - loss: 0.5221 - accuracy: 0.7782 - val_loss: 0.5175 - val_accuracy: 0.7448 - lr: 0.0010 - 85ms/epoch - 9ms/step\n",
            "Epoch 55/70\n",
            "10/10 - 0s - loss: 0.5310 - accuracy: 0.7679 - val_loss: 0.5153 - val_accuracy: 0.7448 - lr: 0.0010 - 72ms/epoch - 7ms/step\n",
            "Epoch 56/70\n",
            "10/10 - 0s - loss: 0.5421 - accuracy: 0.7440 - val_loss: 0.5140 - val_accuracy: 0.7379 - lr: 0.0010 - 70ms/epoch - 7ms/step\n",
            "Epoch 57/70\n",
            "10/10 - 0s - loss: 0.5008 - accuracy: 0.7884 - val_loss: 0.5161 - val_accuracy: 0.7310 - lr: 0.0010 - 83ms/epoch - 8ms/step\n",
            "Epoch 58/70\n",
            "\n",
            "Epoch 58: ReduceLROnPlateau reducing learning rate to 0.00010000000474974513.\n",
            "10/10 - 0s - loss: 0.5060 - accuracy: 0.7918 - val_loss: 0.5160 - val_accuracy: 0.7379 - lr: 0.0010 - 83ms/epoch - 8ms/step\n",
            "Epoch 59/70\n",
            "10/10 - 0s - loss: 0.5184 - accuracy: 0.7850 - val_loss: 0.5159 - val_accuracy: 0.7379 - lr: 1.0000e-04 - 76ms/epoch - 8ms/step\n",
            "Epoch 60/70\n",
            "\n",
            "Epoch 60: ReduceLROnPlateau reducing learning rate to 1.0000000474974514e-05.\n",
            "10/10 - 0s - loss: 0.5219 - accuracy: 0.7713 - val_loss: 0.5156 - val_accuracy: 0.7379 - lr: 1.0000e-04 - 77ms/epoch - 8ms/step\n",
            "Epoch 61/70\n",
            "10/10 - 0s - loss: 0.5208 - accuracy: 0.7747 - val_loss: 0.5156 - val_accuracy: 0.7379 - lr: 1.0000e-05 - 71ms/epoch - 7ms/step\n",
            "Epoch 62/70\n",
            "\n",
            "Epoch 62: ReduceLROnPlateau reducing learning rate to 1.0000000656873453e-06.\n",
            "10/10 - 0s - loss: 0.5221 - accuracy: 0.7713 - val_loss: 0.5156 - val_accuracy: 0.7448 - lr: 1.0000e-05 - 87ms/epoch - 9ms/step\n",
            "Epoch 63/70\n",
            "10/10 - 0s - loss: 0.5074 - accuracy: 0.7884 - val_loss: 0.5156 - val_accuracy: 0.7448 - lr: 1.0000e-06 - 76ms/epoch - 8ms/step\n",
            "Epoch 64/70\n",
            "\n",
            "Epoch 64: ReduceLROnPlateau reducing learning rate to 1.0000001111620805e-07.\n",
            "10/10 - 0s - loss: 0.5343 - accuracy: 0.7338 - val_loss: 0.5156 - val_accuracy: 0.7448 - lr: 1.0000e-06 - 80ms/epoch - 8ms/step\n",
            "Epoch 65/70\n",
            "10/10 - 0s - loss: 0.5295 - accuracy: 0.7679 - val_loss: 0.5156 - val_accuracy: 0.7448 - lr: 1.0000e-07 - 73ms/epoch - 7ms/step\n",
            "Epoch 66/70\n",
            "\n",
            "Epoch 66: ReduceLROnPlateau reducing learning rate to 1.000000082740371e-08.\n",
            "10/10 - 0s - loss: 0.5137 - accuracy: 0.7816 - val_loss: 0.5156 - val_accuracy: 0.7448 - lr: 1.0000e-07 - 91ms/epoch - 9ms/step\n",
            "Epoch 66: early stopping\n"
          ]
        }
      ]
    },
    {
      "cell_type": "code",
      "source": [
        "plt.plot(history.history['loss'])\n",
        "plt.plot(history.history['val_loss'])\n",
        "plt.yscale('log')\n",
        "plt.title('Training History')\n",
        "plt.ylabel('loss')\n",
        "plt.xlabel('epoch')\n",
        "plt.legend(['training', 'validation'], loc='upper right')\n",
        "plt.show()"
      ],
      "metadata": {
        "colab": {
          "base_uri": "https://localhost:8080/",
          "height": 472
        },
        "id": "csc44yoE3R4C",
        "outputId": "6d069773-a740-4b4f-ef04-46d44b7e1dee"
      },
      "execution_count": null,
      "outputs": [
        {
          "output_type": "display_data",
          "data": {
            "text/plain": [
              "<Figure size 640x480 with 1 Axes>"
            ],
            "image/png": "[encoded data removed]"
          },
          "metadata": {}
        }
      ]
    },
    {
      "cell_type": "code",
      "source": [
        "y_pred = model.predict(X_val_sel)\n",
        "\n",
        "fpr, tpr, thresholds = roc_curve(y_val, y_pred)\n",
        "roc_auc = roc_auc_score(y_val, y_pred)\n",
        "plt.figure(figsize=(5, 4))\n",
        "plt.plot(fpr, tpr, color='darkorange', lw=2, label='ROC curve (area = %0.2f)' % roc_auc)\n",
        "plt.plot([0, 1], [0, 1], color='navy', lw=2, linestyle='--')\n",
        "plt.xlim([0.0, 1.0])\n",
        "plt.ylim([0.0, 1.05])\n",
        "plt.xlabel('FPR')\n",
        "plt.ylabel('TPR')\n",
        "plt.title('Receiver Operating Characteristic (ROC)')\n",
        "plt.legend(loc=\"lower right\")\n",
        "plt.show()"
      ],
      "metadata": {
        "colab": {
          "base_uri": "https://localhost:8080/",
          "height": 427
        },
        "id": "3czQMaAs3R0u",
        "outputId": "f4fabac5-973a-4d31-a272-d92777a5dd3b"
      },
      "execution_count": null,
      "outputs": [
        {
          "output_type": "stream",
          "name": "stdout",
          "text": [
            "5/5 [==============================] - 0s 4ms/step\n"
          ]
        },
        {
          "output_type": "display_data",
          "data": {
            "text/plain": [
              "<Figure size 500x400 with 1 Axes>"
            ],
            "image/png": "[encoded data removed]"
          },
          "metadata": {}
        }
      ]
    },
    {
      "cell_type": "code",
      "source": [
        "y_pred = model.predict(X_val_sel)\n",
        "\n",
        "cm = confusion_matrix(y_val, y_pred>0.5)\n",
        "f = sns.heatmap(cm, annot=True)\n",
        "plt.title('Condusion matrix for MLP')\n",
        "plt.plot()\n",
        "plt.show()"
      ],
      "metadata": {
        "colab": {
          "base_uri": "https://localhost:8080/",
          "height": 469
        },
        "id": "OTwKqsbKl4Rq",
        "outputId": "0eb6a8d4-ad0f-425c-b388-c4b348f60e58"
      },
      "execution_count": null,
      "outputs": [
        {
          "output_type": "stream",
          "name": "stdout",
          "text": [
            "5/5 [==============================] - 0s 2ms/step\n"
          ]
        },
        {
          "output_type": "display_data",
          "data": {
            "text/plain": [
              "<Figure size 640x480 with 2 Axes>"
            ],
            "image/png": "[encoded data removed]"
          },
          "metadata": {}
        }
      ]
    },
    {
      "cell_type": "markdown",
      "source": [
        "Let's try with the K fold"
      ],
      "metadata": {
        "id": "GdPzhu18u4xB"
      }
    },
    {
      "cell_type": "code",
      "source": [
        "inputs = np.concatenate((X_train_sel, X_val_sel), axis=0)\n",
        "targets= np.concatenate((y_train, y_val), axis=0)"
      ],
      "metadata": {
        "id": "Ge5r74SfGLt0"
      },
      "execution_count": null,
      "outputs": []
    },
    {
      "cell_type": "code",
      "source": [
        "acc_per_fold = []\n",
        "loss_per_fold = []"
      ],
      "metadata": {
        "id": "q76LiZ_lHCUR"
      },
      "execution_count": null,
      "outputs": []
    },
    {
      "cell_type": "code",
      "source": [
        "n_splits = 3\n",
        "skf = StratifiedKFold(n_splits=n_splits, shuffle=True, random_state=42)"
      ],
      "metadata": {
        "id": "PwAUMKLkHSOF"
      },
      "execution_count": null,
      "outputs": []
    },
    {
      "cell_type": "code",
      "source": [
        "# Define the model architecture\n",
        "input_shape = inputs.shape[1]\n",
        "dropoutRate = 0.3\n",
        "\n",
        "inputArray = Input(shape=(input_shape,))\n",
        "x = Dense(40, activation='relu')(inputArray)\n",
        "x = Dropout(dropoutRate)(x)\n",
        "x = Dense(20)(x)\n",
        "x = Activation('sigmoid')(x)\n",
        "x = Dropout(dropoutRate)(x)\n",
        "x = Dense(5, activation='sigmoid')(x)\n",
        "output = Dense(1, activation='sigmoid')(x)\n",
        "model = Model(inputs=inputArray, outputs=output)\n",
        "\n",
        "# Compile the model\n",
        "model.compile(loss='binary_crossentropy', optimizer=keras.optimizers.Adam(0.002), metrics=['accuracy'])\n",
        "model.summary()\n",
        "\n",
        "#Loop through the folds\n",
        "for fold_no, (train, test) in enumerate(skf.split(inputs, targets), 1):\n",
        "    print('------------------------------------------------------------------------')\n",
        "    print(f'Training for fold {fold_no} ...')\n",
        "\n",
        "    seed_value = 42\n",
        "    np.random.seed(seed_value)\n",
        "    tf.random.set_seed(seed_value)\n",
        "\n",
        "    batch_size = 32\n",
        "    n_epochs = 50\n",
        "\n",
        "    # Train the model\n",
        "    history = model.fit(inputs[train], targets[train], epochs=n_epochs, batch_size=batch_size, verbose=1,\n",
        "                        callbacks=[EarlyStopping(monitor='val_loss', patience=10, verbose=1),\n",
        "                                   ReduceLROnPlateau(monitor='val_loss', factor=0.1, patience=2, verbose=1),\n",
        "                                   TerminateOnNaN()],\n",
        "                        validation_data=(inputs[test], targets[test]))\n",
        "\n",
        "    # Evaluate the model\n",
        "    scores = model.evaluate(inputs[test], targets[test], verbose=0)\n",
        "    print(f'Score for fold {fold_no}: {model.metrics_names[0]} of {scores[0]}; {model.metrics_names[1]} of {scores[1] * 100}%')\n",
        "    acc_per_fold.append(scores[1] * 100)\n",
        "    loss_per_fold.append(scores[0])\n",
        "\n",
        "# Calculate and print average accuracy and loss\n",
        "print('------------------------------------------------------------------------')\n",
        "print('Score per fold:')\n",
        "for i in range(n_splits):\n",
        "    print(f'Fold {i + 1} - Loss: {loss_per_fold[i]} - Accuracy: {acc_per_fold[i]}%')\n",
        "print('------------------------------------------------------------------------')\n",
        "print('Average scores for all folds:')\n",
        "print(f'Accuracy: {np.mean(acc_per_fold)} (+- {np.std(acc_per_fold)})')\n",
        "print(f'Loss: {np.mean(loss_per_fold)}')"
      ],
      "metadata": {
        "colab": {
          "base_uri": "https://localhost:8080/"
        },
        "id": "arWf-g0DBx0A",
        "outputId": "bfe992f9-e996-44cb-d9bd-2f0f5409ae2b"
      },
      "execution_count": null,
      "outputs": [
        {
          "output_type": "stream",
          "name": "stdout",
          "text": [
            "Model: \"model_89\"\n",
            "_________________________________________________________________\n",
            " Layer (type)                Output Shape              Param #   \n",
            "=================================================================\n",
            " input_90 (InputLayer)       [(None, 17)]              0         \n",
            "                                                                 \n",
            " dense_353 (Dense)           (None, 40)                720       \n",
            "                                                                 \n",
            " dropout_172 (Dropout)       (None, 40)                0         \n",
            "                                                                 \n",
            " dense_354 (Dense)           (None, 20)                820       \n",
            "                                                                 \n",
            " activation_82 (Activation)  (None, 20)                0         \n",
            "                                                                 \n",
            " dropout_173 (Dropout)       (None, 20)                0         \n",
            "                                                                 \n",
            " dense_355 (Dense)           (None, 5)                 105       \n",
            "                                                                 \n",
            " dense_356 (Dense)           (None, 1)                 6         \n",
            "                                                                 \n",
            "=================================================================\n",
            "Total params: 1,651\n",
            "Trainable params: 1,651\n",
            "Non-trainable params: 0\n",
            "_________________________________________________________________\n",
            "------------------------------------------------------------------------\n",
            "Training for fold 1 ...\n",
            "Epoch 1/50\n",
            "10/10 [==============================] - 2s 31ms/step - loss: 0.9100 - accuracy: 0.4075 - val_loss: 0.8643 - val_accuracy: 0.4110 - lr: 0.0020\n",
            "Epoch 2/50\n",
            "10/10 [==============================] - 0s 9ms/step - loss: 0.8452 - accuracy: 0.4075 - val_loss: 0.8080 - val_accuracy: 0.4110 - lr: 0.0020\n",
            "Epoch 3/50\n",
            "10/10 [==============================] - 0s 8ms/step - loss: 0.7938 - accuracy: 0.4075 - val_loss: 0.7672 - val_accuracy: 0.4110 - lr: 0.0020\n",
            "Epoch 4/50\n",
            "10/10 [==============================] - 0s 10ms/step - loss: 0.7569 - accuracy: 0.4075 - val_loss: 0.7406 - val_accuracy: 0.4110 - lr: 0.0020\n",
            "Epoch 5/50\n",
            "10/10 [==============================] - 0s 9ms/step - loss: 0.7321 - accuracy: 0.4075 - val_loss: 0.7217 - val_accuracy: 0.4110 - lr: 0.0020\n",
            "Epoch 6/50\n",
            "10/10 [==============================] - 0s 9ms/step - loss: 0.7151 - accuracy: 0.4075 - val_loss: 0.7086 - val_accuracy: 0.4110 - lr: 0.0020\n",
            "Epoch 7/50\n",
            "10/10 [==============================] - 0s 9ms/step - loss: 0.7054 - accuracy: 0.4144 - val_loss: 0.7006 - val_accuracy: 0.4110 - lr: 0.0020\n",
            "Epoch 8/50\n",
            "10/10 [==============================] - 0s 8ms/step - loss: 0.6974 - accuracy: 0.4486 - val_loss: 0.6942 - val_accuracy: 0.4658 - lr: 0.0020\n",
            "Epoch 9/50\n",
            "10/10 [==============================] - 0s 8ms/step - loss: 0.6954 - accuracy: 0.5240 - val_loss: 0.6895 - val_accuracy: 0.6027 - lr: 0.0020\n",
            "Epoch 10/50\n",
            "10/10 [==============================] - 0s 8ms/step - loss: 0.6857 - accuracy: 0.5822 - val_loss: 0.6843 - val_accuracy: 0.6233 - lr: 0.0020\n",
            "Epoch 11/50\n",
            "10/10 [==============================] - 0s 9ms/step - loss: 0.6785 - accuracy: 0.6336 - val_loss: 0.6802 - val_accuracy: 0.6096 - lr: 0.0020\n",
            "Epoch 12/50\n",
            "10/10 [==============================] - 0s 9ms/step - loss: 0.6712 - accuracy: 0.6610 - val_loss: 0.6764 - val_accuracy: 0.6507 - lr: 0.0020\n",
            "Epoch 13/50\n",
            "10/10 [==============================] - 0s 9ms/step - loss: 0.6674 - accuracy: 0.6575 - val_loss: 0.6725 - val_accuracy: 0.6233 - lr: 0.0020\n",
            "Epoch 14/50\n",
            "10/10 [==============================] - 0s 9ms/step - loss: 0.6587 - accuracy: 0.6781 - val_loss: 0.6687 - val_accuracy: 0.6507 - lr: 0.0020\n",
            "Epoch 15/50\n",
            "10/10 [==============================] - 0s 9ms/step - loss: 0.6556 - accuracy: 0.7089 - val_loss: 0.6650 - val_accuracy: 0.6301 - lr: 0.0020\n",
            "Epoch 16/50\n",
            "10/10 [==============================] - 0s 7ms/step - loss: 0.6561 - accuracy: 0.6815 - val_loss: 0.6622 - val_accuracy: 0.6370 - lr: 0.0020\n",
            "Epoch 17/50\n",
            "10/10 [==============================] - 0s 9ms/step - loss: 0.6473 - accuracy: 0.6678 - val_loss: 0.6590 - val_accuracy: 0.6370 - lr: 0.0020\n",
            "Epoch 18/50\n",
            "10/10 [==============================] - 0s 7ms/step - loss: 0.6439 - accuracy: 0.6678 - val_loss: 0.6552 - val_accuracy: 0.6164 - lr: 0.0020\n",
            "Epoch 19/50\n",
            "10/10 [==============================] - 0s 8ms/step - loss: 0.6433 - accuracy: 0.6815 - val_loss: 0.6528 - val_accuracy: 0.6233 - lr: 0.0020\n",
            "Epoch 20/50\n",
            "10/10 [==============================] - 0s 9ms/step - loss: 0.6386 - accuracy: 0.6781 - val_loss: 0.6488 - val_accuracy: 0.6438 - lr: 0.0020\n",
            "Epoch 21/50\n",
            "10/10 [==============================] - 0s 9ms/step - loss: 0.6272 - accuracy: 0.7055 - val_loss: 0.6443 - val_accuracy: 0.6575 - lr: 0.0020\n",
            "Epoch 22/50\n",
            "10/10 [==============================] - 0s 7ms/step - loss: 0.6354 - accuracy: 0.6747 - val_loss: 0.6404 - val_accuracy: 0.6575 - lr: 0.0020\n",
            "Epoch 23/50\n",
            "10/10 [==============================] - 0s 10ms/step - loss: 0.6139 - accuracy: 0.6884 - val_loss: 0.6365 - val_accuracy: 0.6575 - lr: 0.0020\n",
            "Epoch 24/50\n",
            "10/10 [==============================] - 0s 9ms/step - loss: 0.6159 - accuracy: 0.7158 - val_loss: 0.6332 - val_accuracy: 0.6781 - lr: 0.0020\n",
            "Epoch 25/50\n",
            "10/10 [==============================] - 0s 8ms/step - loss: 0.6174 - accuracy: 0.6952 - val_loss: 0.6289 - val_accuracy: 0.6781 - lr: 0.0020\n",
            "Epoch 26/50\n",
            "10/10 [==============================] - 0s 8ms/step - loss: 0.6179 - accuracy: 0.7123 - val_loss: 0.6256 - val_accuracy: 0.6712 - lr: 0.0020\n",
            "Epoch 27/50\n",
            "10/10 [==============================] - 0s 9ms/step - loss: 0.6034 - accuracy: 0.7397 - val_loss: 0.6236 - val_accuracy: 0.6575 - lr: 0.0020\n",
            "Epoch 28/50\n",
            "10/10 [==============================] - 0s 9ms/step - loss: 0.5934 - accuracy: 0.7226 - val_loss: 0.6166 - val_accuracy: 0.6712 - lr: 0.0020\n",
            "Epoch 29/50\n",
            "10/10 [==============================] - 0s 8ms/step - loss: 0.5897 - accuracy: 0.7295 - val_loss: 0.6090 - val_accuracy: 0.6986 - lr: 0.0020\n",
            "Epoch 30/50\n",
            "10/10 [==============================] - 0s 8ms/step - loss: 0.5839 - accuracy: 0.7363 - val_loss: 0.6034 - val_accuracy: 0.7055 - lr: 0.0020\n",
            "Epoch 31/50\n",
            "10/10 [==============================] - 0s 9ms/step - loss: 0.5829 - accuracy: 0.7466 - val_loss: 0.6006 - val_accuracy: 0.7123 - lr: 0.0020\n",
            "Epoch 32/50\n",
            "10/10 [==============================] - 0s 8ms/step - loss: 0.5799 - accuracy: 0.7534 - val_loss: 0.5978 - val_accuracy: 0.7192 - lr: 0.0020\n",
            "Epoch 33/50\n",
            "10/10 [==============================] - 0s 9ms/step - loss: 0.5692 - accuracy: 0.7466 - val_loss: 0.5939 - val_accuracy: 0.7123 - lr: 0.0020\n",
            "Epoch 34/50\n",
            "10/10 [==============================] - 0s 9ms/step - loss: 0.5774 - accuracy: 0.7500 - val_loss: 0.5911 - val_accuracy: 0.7260 - lr: 0.0020\n",
            "Epoch 35/50\n",
            "10/10 [==============================] - 0s 8ms/step - loss: 0.5609 - accuracy: 0.7500 - val_loss: 0.5856 - val_accuracy: 0.7329 - lr: 0.0020\n",
            "Epoch 36/50\n",
            "10/10 [==============================] - 0s 8ms/step - loss: 0.5674 - accuracy: 0.7603 - val_loss: 0.5795 - val_accuracy: 0.7123 - lr: 0.0020\n",
            "Epoch 37/50\n",
            "10/10 [==============================] - 0s 9ms/step - loss: 0.5553 - accuracy: 0.7568 - val_loss: 0.5753 - val_accuracy: 0.7466 - lr: 0.0020\n",
            "Epoch 38/50\n",
            "10/10 [==============================] - 0s 9ms/step - loss: 0.5540 - accuracy: 0.7603 - val_loss: 0.5710 - val_accuracy: 0.7260 - lr: 0.0020\n",
            "Epoch 39/50\n",
            "10/10 [==============================] - 0s 8ms/step - loss: 0.5306 - accuracy: 0.8082 - val_loss: 0.5653 - val_accuracy: 0.7397 - lr: 0.0020\n",
            "Epoch 40/50\n",
            "10/10 [==============================] - 0s 10ms/step - loss: 0.5406 - accuracy: 0.7603 - val_loss: 0.5624 - val_accuracy: 0.7397 - lr: 0.0020\n",
            "Epoch 41/50\n",
            "10/10 [==============================] - 0s 9ms/step - loss: 0.5529 - accuracy: 0.7500 - val_loss: 0.5571 - val_accuracy: 0.7466 - lr: 0.0020\n",
            "Epoch 42/50\n",
            "10/10 [==============================] - 0s 9ms/step - loss: 0.5421 - accuracy: 0.7774 - val_loss: 0.5522 - val_accuracy: 0.7534 - lr: 0.0020\n",
            "Epoch 43/50\n",
            "10/10 [==============================] - 0s 9ms/step - loss: 0.5236 - accuracy: 0.7637 - val_loss: 0.5466 - val_accuracy: 0.7671 - lr: 0.0020\n",
            "Epoch 44/50\n",
            "10/10 [==============================] - 0s 8ms/step - loss: 0.5304 - accuracy: 0.7842 - val_loss: 0.5471 - val_accuracy: 0.7534 - lr: 0.0020\n",
            "Epoch 45/50\n",
            " 1/10 [==>...........................] - ETA: 0s - loss: 0.4806 - accuracy: 0.7812\n",
            "Epoch 45: ReduceLROnPlateau reducing learning rate to 0.00020000000949949026.\n",
            "10/10 [==============================] - 0s 8ms/step - loss: 0.5211 - accuracy: 0.7808 - val_loss: 0.5490 - val_accuracy: 0.7808 - lr: 0.0020\n",
            "Epoch 46/50\n",
            "10/10 [==============================] - 0s 9ms/step - loss: 0.5084 - accuracy: 0.8048 - val_loss: 0.5486 - val_accuracy: 0.7808 - lr: 2.0000e-04\n",
            "Epoch 47/50\n",
            " 1/10 [==>...........................] - ETA: 0s - loss: 0.5341 - accuracy: 0.7812\n",
            "Epoch 47: ReduceLROnPlateau reducing learning rate to 2.0000000949949027e-05.\n",
            "10/10 [==============================] - 0s 9ms/step - loss: 0.5194 - accuracy: 0.7979 - val_loss: 0.5485 - val_accuracy: 0.7808 - lr: 2.0000e-04\n",
            "Epoch 48/50\n",
            "10/10 [==============================] - 0s 9ms/step - loss: 0.5153 - accuracy: 0.7979 - val_loss: 0.5485 - val_accuracy: 0.7808 - lr: 2.0000e-05\n",
            "Epoch 49/50\n",
            " 1/10 [==>...........................] - ETA: 0s - loss: 0.4407 - accuracy: 0.8750\n",
            "Epoch 49: ReduceLROnPlateau reducing learning rate to 2.0000001313746906e-06.\n",
            "10/10 [==============================] - 0s 9ms/step - loss: 0.5109 - accuracy: 0.7911 - val_loss: 0.5485 - val_accuracy: 0.7808 - lr: 2.0000e-05\n",
            "Epoch 50/50\n",
            "10/10 [==============================] - 0s 9ms/step - loss: 0.5143 - accuracy: 0.7877 - val_loss: 0.5485 - val_accuracy: 0.7808 - lr: 2.0000e-06\n",
            "Score for fold 1: loss of 0.5485085844993591; accuracy of 78.08219194412231%\n",
            "------------------------------------------------------------------------\n",
            "Training for fold 2 ...\n",
            "Epoch 1/50\n",
            "10/10 [==============================] - 0s 22ms/step - loss: 0.5506 - accuracy: 0.7432 - val_loss: 0.4873 - val_accuracy: 0.8219 - lr: 2.0000e-06\n",
            "Epoch 2/50\n",
            "10/10 [==============================] - 0s 9ms/step - loss: 0.5394 - accuracy: 0.7603 - val_loss: 0.4873 - val_accuracy: 0.8219 - lr: 2.0000e-06\n",
            "Epoch 3/50\n",
            " 1/10 [==>...........................] - ETA: 0s - loss: 0.4498 - accuracy: 0.8438\n",
            "Epoch 3: ReduceLROnPlateau reducing learning rate to 2.000000222324161e-07.\n",
            "10/10 [==============================] - 0s 8ms/step - loss: 0.5386 - accuracy: 0.7432 - val_loss: 0.4873 - val_accuracy: 0.8219 - lr: 2.0000e-06\n",
            "Epoch 4/50\n",
            "10/10 [==============================] - 0s 14ms/step - loss: 0.5334 - accuracy: 0.7671 - val_loss: 0.4873 - val_accuracy: 0.8219 - lr: 2.0000e-07\n",
            "Epoch 5/50\n",
            " 1/10 [==>...........................] - ETA: 0s - loss: 0.6264 - accuracy: 0.6562\n",
            "Epoch 5: ReduceLROnPlateau reducing learning rate to 2.000000165480742e-08.\n",
            "10/10 [==============================] - 0s 8ms/step - loss: 0.5453 - accuracy: 0.7466 - val_loss: 0.4873 - val_accuracy: 0.8219 - lr: 2.0000e-07\n",
            "Epoch 6/50\n",
            "10/10 [==============================] - 0s 8ms/step - loss: 0.5401 - accuracy: 0.7603 - val_loss: 0.4873 - val_accuracy: 0.8219 - lr: 2.0000e-08\n",
            "Epoch 7/50\n",
            " 1/10 [==>...........................] - ETA: 0s - loss: 0.6098 - accuracy: 0.6562\n",
            "Epoch 7: ReduceLROnPlateau reducing learning rate to 2.000000165480742e-09.\n",
            "10/10 [==============================] - 0s 9ms/step - loss: 0.5617 - accuracy: 0.7500 - val_loss: 0.4873 - val_accuracy: 0.8219 - lr: 2.0000e-08\n",
            "Epoch 8/50\n",
            "10/10 [==============================] - 0s 8ms/step - loss: 0.5468 - accuracy: 0.7637 - val_loss: 0.4873 - val_accuracy: 0.8219 - lr: 2.0000e-09\n",
            "Epoch 9/50\n",
            " 1/10 [==>...........................] - ETA: 0s - loss: 0.5361 - accuracy: 0.7812\n",
            "Epoch 9: ReduceLROnPlateau reducing learning rate to 2.000000165480742e-10.\n",
            "10/10 [==============================] - 0s 9ms/step - loss: 0.5315 - accuracy: 0.7911 - val_loss: 0.4873 - val_accuracy: 0.8219 - lr: 2.0000e-09\n",
            "Epoch 10/50\n",
            "10/10 [==============================] - 0s 9ms/step - loss: 0.5410 - accuracy: 0.7534 - val_loss: 0.4873 - val_accuracy: 0.8219 - lr: 2.0000e-10\n",
            "Epoch 11/50\n",
            " 1/10 [==>...........................] - ETA: 0s - loss: 0.5089 - accuracy: 0.7812\n",
            "Epoch 11: ReduceLROnPlateau reducing learning rate to 2.000000165480742e-11.\n",
            "10/10 [==============================] - 0s 9ms/step - loss: 0.5527 - accuracy: 0.7466 - val_loss: 0.4873 - val_accuracy: 0.8219 - lr: 2.0000e-10\n",
            "Epoch 12/50\n",
            "10/10 [==============================] - 0s 8ms/step - loss: 0.5248 - accuracy: 0.7671 - val_loss: 0.4873 - val_accuracy: 0.8219 - lr: 2.0000e-11\n",
            "Epoch 12: early stopping\n",
            "Score for fold 2: loss of 0.48727449774742126; accuracy of 82.19178318977356%\n",
            "------------------------------------------------------------------------\n",
            "Training for fold 3 ...\n",
            "Epoch 1/50\n",
            "10/10 [==============================] - 0s 16ms/step - loss: 0.5280 - accuracy: 0.7774 - val_loss: 0.5026 - val_accuracy: 0.8219 - lr: 2.0000e-11\n",
            "Epoch 2/50\n",
            "10/10 [==============================] - 0s 8ms/step - loss: 0.5377 - accuracy: 0.7705 - val_loss: 0.5026 - val_accuracy: 0.8219 - lr: 2.0000e-11\n",
            "Epoch 3/50\n",
            " 1/10 [==>...........................] - ETA: 0s - loss: 0.4939 - accuracy: 0.8750\n",
            "Epoch 3: ReduceLROnPlateau reducing learning rate to 2.000000165480742e-12.\n",
            "10/10 [==============================] - 0s 9ms/step - loss: 0.5330 - accuracy: 0.7705 - val_loss: 0.5026 - val_accuracy: 0.8219 - lr: 2.0000e-11\n",
            "Epoch 4/50\n",
            "10/10 [==============================] - 0s 10ms/step - loss: 0.5288 - accuracy: 0.7568 - val_loss: 0.5026 - val_accuracy: 0.8219 - lr: 2.0000e-12\n",
            "Epoch 5/50\n",
            " 1/10 [==>...........................] - ETA: 0s - loss: 0.5905 - accuracy: 0.6875\n",
            "Epoch 5: ReduceLROnPlateau reducing learning rate to 2.000000208848829e-13.\n",
            "10/10 [==============================] - 0s 9ms/step - loss: 0.5376 - accuracy: 0.7637 - val_loss: 0.5026 - val_accuracy: 0.8219 - lr: 2.0000e-12\n",
            "Epoch 6/50\n",
            "10/10 [==============================] - 0s 9ms/step - loss: 0.5389 - accuracy: 0.7534 - val_loss: 0.5026 - val_accuracy: 0.8219 - lr: 2.0000e-13\n",
            "Epoch 7/50\n",
            " 1/10 [==>...........................] - ETA: 0s - loss: 0.5461 - accuracy: 0.7188\n",
            "Epoch 7: ReduceLROnPlateau reducing learning rate to 2.0000002359538835e-14.\n",
            "10/10 [==============================] - 0s 9ms/step - loss: 0.5380 - accuracy: 0.7637 - val_loss: 0.5026 - val_accuracy: 0.8219 - lr: 2.0000e-13\n",
            "Epoch 8/50\n",
            "10/10 [==============================] - 0s 8ms/step - loss: 0.5391 - accuracy: 0.7740 - val_loss: 0.5026 - val_accuracy: 0.8219 - lr: 2.0000e-14\n",
            "Epoch 9/50\n",
            " 1/10 [==>...........................] - ETA: 0s - loss: 0.3837 - accuracy: 0.8750\n",
            "Epoch 9: ReduceLROnPlateau reducing learning rate to 2.000000303716519e-15.\n",
            "10/10 [==============================] - 0s 8ms/step - loss: 0.5331 - accuracy: 0.7603 - val_loss: 0.5026 - val_accuracy: 0.8219 - lr: 2.0000e-14\n",
            "Epoch 10/50\n",
            "10/10 [==============================] - 0s 9ms/step - loss: 0.5453 - accuracy: 0.7432 - val_loss: 0.5026 - val_accuracy: 0.8219 - lr: 2.0000e-15\n",
            "Epoch 11/50\n",
            " 1/10 [==>...........................] - ETA: 0s - loss: 0.5216 - accuracy: 0.8438\n",
            "Epoch 11: ReduceLROnPlateau reducing learning rate to 2.0000002190132243e-16.\n",
            "10/10 [==============================] - 0s 8ms/step - loss: 0.5451 - accuracy: 0.7534 - val_loss: 0.5026 - val_accuracy: 0.8219 - lr: 2.0000e-15\n",
            "Epoch 11: early stopping\n",
            "Score for fold 3: loss of 0.5025726556777954; accuracy of 82.19178318977356%\n",
            "------------------------------------------------------------------------\n",
            "Score per fold:\n",
            "Fold 1 - Loss: 0.5485085844993591 - Accuracy: 78.08219194412231%\n",
            "Fold 2 - Loss: 0.48727449774742126 - Accuracy: 82.19178318977356%\n",
            "Fold 3 - Loss: 0.5025726556777954 - Accuracy: 82.19178318977356%\n",
            "------------------------------------------------------------------------\n",
            "Average scores for all folds:\n",
            "Accuracy: 80.82191944122314 (+- 1.9372798918032441)\n",
            "Loss: 0.5127852459748586\n"
          ]
        }
      ]
    }
  ],
  "metadata": {
    "colab": {
      "provenance": [],
      "gpuType": "T4",
      "include_colab_link": true
    },
    "kernelspec": {
      "display_name": "Python 3",
      "name": "python3"
    },
    "language_info": {
      "codemirror_mode": {
        "name": "ipython",
        "version": 3
      },
      "file_extension": ".py",
      "mimetype": "text/x-python",
      "name": "python",
      "nbconvert_exporter": "python",
      "pygments_lexer": "ipython3",
      "version": "3.9.12"
    },
    "accelerator": "GPU"
  },
  "nbformat": 4,
  "nbformat_minor": 0
}